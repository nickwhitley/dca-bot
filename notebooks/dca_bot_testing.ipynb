{
 "cells": [
  {
   "cell_type": "code",
   "execution_count": 13,
   "id": "36c5c0da",
   "metadata": {},
   "outputs": [],
   "source": [
    "import sys\n",
    "import os\n",
    "import pandas as pd\n",
    "sys.path.append(\"../src\")\n",
    "import json\n",
    "from data import data\n",
    "from constants import Timeframe\n",
    "\n",
    "pd.set_option('display.max_columns', None)"
   ]
  },
  {
   "cell_type": "code",
   "execution_count": 21,
   "id": "e6a2875e",
   "metadata": {},
   "outputs": [],
   "source": [
    "def run_backtest(df):\n",
    "    df_copy = df.copy()\n",
    "    df_copy['trade_action'] = ''\n",
    "    trade_price = 0.0\n",
    "    trade_price_diff = 0.0\n",
    "\n",
    "    in_trade = False\n",
    "\n",
    "    for idx, row in df_copy.iterrows():\n",
    "        if not in_trade:\n",
    "            df_copy.at[idx, 'trade_action'] = 'in_trade'\n",
    "            trade_price = float(row['open'])\n",
    "            in_trade = True\n",
    "\n",
    "        trade_price_diff = trade_price - float(row['close'])\n",
    "\n",
    "    print(df_copy)\n",
    "    print(f\"Last trade price: {trade_price}\")\n",
    "    print(f\"Last trade price diff: {trade_price_diff}\")"
   ]
  },
  {
   "cell_type": "code",
   "execution_count": 15,
   "id": "5b20f8d7",
   "metadata": {},
   "outputs": [],
   "source": [
    "df = data.get_df(\"ADAUSD\", Timeframe.H1, \".\", 'PARQUET')"
   ]
  },
  {
   "cell_type": "code",
   "execution_count": 22,
   "id": "c7b7c0e6",
   "metadata": {},
   "outputs": [
    {
     "name": "stdout",
     "output_type": "stream",
     "text": [
      "            timestamp      open      high       low     close      vwap  \\\n",
      "0    06-15-2025 01:00  0.631473  0.634377  0.630000  0.633617  0.630877   \n",
      "1    06-15-2025 02:00  0.634691  0.634924  0.629850  0.630389  0.631012   \n",
      "2    06-15-2025 03:00  0.630363  0.630602  0.627588  0.628634  0.628654   \n",
      "3    06-15-2025 04:00  0.628446  0.628446  0.625878  0.626764  0.626784   \n",
      "4    06-15-2025 05:00  0.626300  0.626885  0.621469  0.621988  0.623821   \n",
      "..                ...       ...       ...       ...       ...       ...   \n",
      "528  07-07-2025 01:00  0.585540  0.587334  0.584986  0.586369  0.586154   \n",
      "529  07-07-2025 02:00  0.586047  0.586718  0.583104  0.583104  0.585669   \n",
      "530  07-07-2025 03:00  0.583206  0.591405  0.581748  0.590544  0.588730   \n",
      "531  07-07-2025 04:00  0.590755  0.591132  0.587312  0.589238  0.589959   \n",
      "532  07-07-2025 05:00  0.589237  0.589237  0.587514  0.587720  0.588149   \n",
      "\n",
      "               volume  count trade_action  \n",
      "0      47993.67340465    182     in_trade  \n",
      "1     107529.73758482    109               \n",
      "2      32777.16180841     55               \n",
      "3      12200.69788582     55               \n",
      "4      77646.24198837    140               \n",
      "..                ...    ...          ...  \n",
      "528   147219.86937084    106               \n",
      "529   112492.47462035     95               \n",
      "530  7221048.80911312    801               \n",
      "531   587509.11058538    231               \n",
      "532    47912.48482388     27               \n",
      "\n",
      "[533 rows x 9 columns]\n",
      "Last trade price: 0.631473\n",
      "Last trade price diff: 0.04375299999999993\n"
     ]
    }
   ],
   "source": [
    "\n",
    "run_backtest(df)"
   ]
  }
 ],
 "metadata": {
  "kernelspec": {
   "display_name": "venv",
   "language": "python",
   "name": "python3"
  },
  "language_info": {
   "codemirror_mode": {
    "name": "ipython",
    "version": 3
   },
   "file_extension": ".py",
   "mimetype": "text/x-python",
   "name": "python",
   "nbconvert_exporter": "python",
   "pygments_lexer": "ipython3",
   "version": "3.12.3"
  }
 },
 "nbformat": 4,
 "nbformat_minor": 5
}
