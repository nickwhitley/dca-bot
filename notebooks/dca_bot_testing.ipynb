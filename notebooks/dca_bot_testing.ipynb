{
 "cells": [
  {
   "cell_type": "code",
   "execution_count": 1,
   "id": "36c5c0da",
   "metadata": {},
   "outputs": [],
   "source": [
    "import sys\n",
    "import os\n",
    "import pandas as pd\n",
    "sys.path.append(\"../src\")\n",
    "import json\n",
    "from data import data\n",
    "from constants import Timeframe\n",
    "from datetime import datetime\n",
    "from pydantic import BaseModel, ValidationError, PositiveInt\n",
    "from datetime import datetime\n",
    "from backtesting.backtest_config import BacktestConfig\n",
    "\n",
    "pd.set_option('display.max_columns', None)"
   ]
  },
  {
   "cell_type": "code",
   "execution_count": 2,
   "id": "e6a2875e",
   "metadata": {},
   "outputs": [],
   "source": [
    "\n",
    "def run_backtest(df):\n",
    "    df_copy = df.copy()\n",
    "    df_copy['trade_action'] = ''\n",
    "    trade_price = 0.0\n",
    "    trade_price_diff = 0.0\n",
    "\n",
    "    in_trade = False\n",
    "\n",
    "    for idx, row in df_copy.iterrows():\n",
    "        if not in_trade:\n",
    "            df_copy.at[idx, 'trade_action'] = 'in_trade'\n",
    "            trade_price = float(row['open'])\n",
    "            in_trade = True\n",
    "\n",
    "        trade_price_diff = trade_price - float(row['close'])\n",
    "\n",
    "    print(df_copy)\n",
    "    print(f\"Last trade price: {trade_price}\")\n",
    "    print(f\"Last trade price diff: {trade_price_diff}\")"
   ]
  },
  {
   "cell_type": "code",
   "execution_count": null,
   "id": "5b20f8d7",
   "metadata": {},
   "outputs": [],
   "source": [
    "df = data.get_df(\"ADAUSD\", Timeframe.H1, \".\", 'PARQUET')"
   ]
  },
  {
   "cell_type": "code",
   "execution_count": null,
   "id": "c7b7c0e6",
   "metadata": {},
   "outputs": [],
   "source": [
    "\n",
    "run_backtest(df)"
   ]
  }
 ],
 "metadata": {
  "kernelspec": {
   "display_name": "venv",
   "language": "python",
   "name": "python3"
  },
  "language_info": {
   "codemirror_mode": {
    "name": "ipython",
    "version": 3
   },
   "file_extension": ".py",
   "mimetype": "text/x-python",
   "name": "python",
   "nbconvert_exporter": "python",
   "pygments_lexer": "ipython3",
   "version": "3.12.3"
  }
 },
 "nbformat": 4,
 "nbformat_minor": 5
}
