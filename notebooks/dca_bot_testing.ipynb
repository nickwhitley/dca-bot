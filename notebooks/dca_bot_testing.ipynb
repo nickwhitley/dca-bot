{
 "cells": [
  {
   "cell_type": "code",
   "execution_count": 1,
   "id": "36c5c0da",
   "metadata": {},
   "outputs": [],
   "source": [
    "import sys\n",
    "import os\n",
    "import pandas as pd\n",
    "import yfinance\n",
    "sys.path.append(\"../src\")\n",
    "import json\n",
    "import yfinance as yf\n",
    "\n",
    "from data import data\n",
    "from constants import Timeframe, Asset\n",
    "from datetime import datetime, timedelta\n",
    "from pydantic import BaseModel, ValidationError, PositiveInt\n",
    "from datetime import datetime\n",
    "from datetime import timedelta\n",
    "from backtesting.backtest_config import BacktestConfig\n",
    "from pydantic import BaseModel\n",
    "from api.coindesk_api import get_OHLC\n",
    "\n",
    "\n",
    "pd.set_option('display.max_columns', None)"
   ]
  },
  {
   "cell_type": "code",
   "execution_count": 2,
   "id": "f617725b",
   "metadata": {},
   "outputs": [
    {
     "name": "stderr",
     "output_type": "stream",
     "text": [
      "\u001b[32m2025-07-29 05:39:05.063\u001b[0m | \u001b[1mINFO    \u001b[0m | \u001b[36mapi.coindesk_api\u001b[0m:\u001b[36mget_OHLC\u001b[0m:\u001b[36m104\u001b[0m - \u001b[1mmaking OHLC request\u001b[0m\n",
      "\u001b[32m2025-07-29 05:39:05.064\u001b[0m | \u001b[1mINFO    \u001b[0m | \u001b[36mapi.coindesk_api\u001b[0m:\u001b[36mmake_request\u001b[0m:\u001b[36m29\u001b[0m - \u001b[1mcalling https://data-api.coindesk.com/index/cc/v1/historical/minutes with params: {'groups': 'OHLC', 'to_ts': 1751462400.0, 'instrument': 'ADA-USD', 'limit': 2000, 'market': 'cadli', 'aggregate': '1', 'apply_mapping': 'true', 'response_format': 'JSON', 'fill': 'true'}\u001b[0m\n"
     ]
    },
    {
     "name": "stdout",
     "output_type": "stream",
     "text": [
      "Pulling data from 2025-07-01 00:00:00 to 2025-07-29 05:00:00\n",
      "Current chunk end 2025-07-02 09:20:00\n"
     ]
    },
    {
     "name": "stderr",
     "output_type": "stream",
     "text": [
      "\u001b[32m2025-07-29 05:39:05.842\u001b[0m | \u001b[1mINFO    \u001b[0m | \u001b[36mapi.coindesk_api\u001b[0m:\u001b[36mmake_request\u001b[0m:\u001b[36m57\u001b[0m - \u001b[1mcall to https://data-api.coindesk.com/index/cc/v1/historical/minutes is returning response.\u001b[0m\n",
      "\u001b[32m2025-07-29 05:39:05.845\u001b[0m | \u001b[1mINFO    \u001b[0m | \u001b[36mapi.coindesk_api\u001b[0m:\u001b[36mget_OHLC\u001b[0m:\u001b[36m104\u001b[0m - \u001b[1mmaking OHLC request\u001b[0m\n",
      "\u001b[32m2025-07-29 05:39:05.845\u001b[0m | \u001b[1mINFO    \u001b[0m | \u001b[36mapi.coindesk_api\u001b[0m:\u001b[36mmake_request\u001b[0m:\u001b[36m29\u001b[0m - \u001b[1mcalling https://data-api.coindesk.com/index/cc/v1/historical/minutes with params: {'groups': 'OHLC', 'to_ts': 1751582400.0, 'instrument': 'ADA-USD', 'limit': 2000, 'market': 'cadli', 'aggregate': '1', 'apply_mapping': 'true', 'response_format': 'JSON', 'fill': 'true'}\u001b[0m\n"
     ]
    },
    {
     "name": "stdout",
     "output_type": "stream",
     "text": [
      "Current chunk end 2025-07-03 18:40:00\n"
     ]
    },
    {
     "name": "stderr",
     "output_type": "stream",
     "text": [
      "\u001b[32m2025-07-29 05:39:06.602\u001b[0m | \u001b[1mINFO    \u001b[0m | \u001b[36mapi.coindesk_api\u001b[0m:\u001b[36mmake_request\u001b[0m:\u001b[36m57\u001b[0m - \u001b[1mcall to https://data-api.coindesk.com/index/cc/v1/historical/minutes is returning response.\u001b[0m\n",
      "\u001b[32m2025-07-29 05:39:06.606\u001b[0m | \u001b[1mINFO    \u001b[0m | \u001b[36mapi.coindesk_api\u001b[0m:\u001b[36mget_OHLC\u001b[0m:\u001b[36m104\u001b[0m - \u001b[1mmaking OHLC request\u001b[0m\n",
      "\u001b[32m2025-07-29 05:39:06.606\u001b[0m | \u001b[1mINFO    \u001b[0m | \u001b[36mapi.coindesk_api\u001b[0m:\u001b[36mmake_request\u001b[0m:\u001b[36m29\u001b[0m - \u001b[1mcalling https://data-api.coindesk.com/index/cc/v1/historical/minutes with params: {'groups': 'OHLC', 'to_ts': 1751702400.0, 'instrument': 'ADA-USD', 'limit': 2000, 'market': 'cadli', 'aggregate': '1', 'apply_mapping': 'true', 'response_format': 'JSON', 'fill': 'true'}\u001b[0m\n"
     ]
    },
    {
     "name": "stdout",
     "output_type": "stream",
     "text": [
      "Current chunk end 2025-07-05 04:00:00\n"
     ]
    },
    {
     "name": "stderr",
     "output_type": "stream",
     "text": [
      "\u001b[32m2025-07-29 05:39:07.310\u001b[0m | \u001b[1mINFO    \u001b[0m | \u001b[36mapi.coindesk_api\u001b[0m:\u001b[36mmake_request\u001b[0m:\u001b[36m57\u001b[0m - \u001b[1mcall to https://data-api.coindesk.com/index/cc/v1/historical/minutes is returning response.\u001b[0m\n",
      "\u001b[32m2025-07-29 05:39:07.313\u001b[0m | \u001b[1mINFO    \u001b[0m | \u001b[36mapi.coindesk_api\u001b[0m:\u001b[36mget_OHLC\u001b[0m:\u001b[36m104\u001b[0m - \u001b[1mmaking OHLC request\u001b[0m\n",
      "\u001b[32m2025-07-29 05:39:07.314\u001b[0m | \u001b[1mINFO    \u001b[0m | \u001b[36mapi.coindesk_api\u001b[0m:\u001b[36mmake_request\u001b[0m:\u001b[36m29\u001b[0m - \u001b[1mcalling https://data-api.coindesk.com/index/cc/v1/historical/minutes with params: {'groups': 'OHLC', 'to_ts': 1751822400.0, 'instrument': 'ADA-USD', 'limit': 2000, 'market': 'cadli', 'aggregate': '1', 'apply_mapping': 'true', 'response_format': 'JSON', 'fill': 'true'}\u001b[0m\n"
     ]
    },
    {
     "name": "stdout",
     "output_type": "stream",
     "text": [
      "Current chunk end 2025-07-06 13:20:00\n"
     ]
    },
    {
     "name": "stderr",
     "output_type": "stream",
     "text": [
      "\u001b[32m2025-07-29 05:39:08.027\u001b[0m | \u001b[1mINFO    \u001b[0m | \u001b[36mapi.coindesk_api\u001b[0m:\u001b[36mmake_request\u001b[0m:\u001b[36m57\u001b[0m - \u001b[1mcall to https://data-api.coindesk.com/index/cc/v1/historical/minutes is returning response.\u001b[0m\n",
      "\u001b[32m2025-07-29 05:39:08.030\u001b[0m | \u001b[1mINFO    \u001b[0m | \u001b[36mapi.coindesk_api\u001b[0m:\u001b[36mget_OHLC\u001b[0m:\u001b[36m104\u001b[0m - \u001b[1mmaking OHLC request\u001b[0m\n",
      "\u001b[32m2025-07-29 05:39:08.031\u001b[0m | \u001b[1mINFO    \u001b[0m | \u001b[36mapi.coindesk_api\u001b[0m:\u001b[36mmake_request\u001b[0m:\u001b[36m29\u001b[0m - \u001b[1mcalling https://data-api.coindesk.com/index/cc/v1/historical/minutes with params: {'groups': 'OHLC', 'to_ts': 1751942400.0, 'instrument': 'ADA-USD', 'limit': 2000, 'market': 'cadli', 'aggregate': '1', 'apply_mapping': 'true', 'response_format': 'JSON', 'fill': 'true'}\u001b[0m\n"
     ]
    },
    {
     "name": "stdout",
     "output_type": "stream",
     "text": [
      "Current chunk end 2025-07-07 22:40:00\n"
     ]
    },
    {
     "name": "stderr",
     "output_type": "stream",
     "text": [
      "\u001b[32m2025-07-29 05:39:08.746\u001b[0m | \u001b[1mINFO    \u001b[0m | \u001b[36mapi.coindesk_api\u001b[0m:\u001b[36mmake_request\u001b[0m:\u001b[36m57\u001b[0m - \u001b[1mcall to https://data-api.coindesk.com/index/cc/v1/historical/minutes is returning response.\u001b[0m\n",
      "\u001b[32m2025-07-29 05:39:08.750\u001b[0m | \u001b[1mINFO    \u001b[0m | \u001b[36mapi.coindesk_api\u001b[0m:\u001b[36mget_OHLC\u001b[0m:\u001b[36m104\u001b[0m - \u001b[1mmaking OHLC request\u001b[0m\n",
      "\u001b[32m2025-07-29 05:39:08.750\u001b[0m | \u001b[1mINFO    \u001b[0m | \u001b[36mapi.coindesk_api\u001b[0m:\u001b[36mmake_request\u001b[0m:\u001b[36m29\u001b[0m - \u001b[1mcalling https://data-api.coindesk.com/index/cc/v1/historical/minutes with params: {'groups': 'OHLC', 'to_ts': 1752062400.0, 'instrument': 'ADA-USD', 'limit': 2000, 'market': 'cadli', 'aggregate': '1', 'apply_mapping': 'true', 'response_format': 'JSON', 'fill': 'true'}\u001b[0m\n"
     ]
    },
    {
     "name": "stdout",
     "output_type": "stream",
     "text": [
      "Current chunk end 2025-07-09 08:00:00\n"
     ]
    },
    {
     "name": "stderr",
     "output_type": "stream",
     "text": [
      "\u001b[32m2025-07-29 05:39:09.487\u001b[0m | \u001b[1mINFO    \u001b[0m | \u001b[36mapi.coindesk_api\u001b[0m:\u001b[36mmake_request\u001b[0m:\u001b[36m57\u001b[0m - \u001b[1mcall to https://data-api.coindesk.com/index/cc/v1/historical/minutes is returning response.\u001b[0m\n",
      "\u001b[32m2025-07-29 05:39:09.490\u001b[0m | \u001b[1mINFO    \u001b[0m | \u001b[36mapi.coindesk_api\u001b[0m:\u001b[36mget_OHLC\u001b[0m:\u001b[36m104\u001b[0m - \u001b[1mmaking OHLC request\u001b[0m\n",
      "\u001b[32m2025-07-29 05:39:09.490\u001b[0m | \u001b[1mINFO    \u001b[0m | \u001b[36mapi.coindesk_api\u001b[0m:\u001b[36mmake_request\u001b[0m:\u001b[36m29\u001b[0m - \u001b[1mcalling https://data-api.coindesk.com/index/cc/v1/historical/minutes with params: {'groups': 'OHLC', 'to_ts': 1752182400.0, 'instrument': 'ADA-USD', 'limit': 2000, 'market': 'cadli', 'aggregate': '1', 'apply_mapping': 'true', 'response_format': 'JSON', 'fill': 'true'}\u001b[0m\n"
     ]
    },
    {
     "name": "stdout",
     "output_type": "stream",
     "text": [
      "Current chunk end 2025-07-10 17:20:00\n"
     ]
    },
    {
     "name": "stderr",
     "output_type": "stream",
     "text": [
      "\u001b[32m2025-07-29 05:39:10.251\u001b[0m | \u001b[1mINFO    \u001b[0m | \u001b[36mapi.coindesk_api\u001b[0m:\u001b[36mmake_request\u001b[0m:\u001b[36m57\u001b[0m - \u001b[1mcall to https://data-api.coindesk.com/index/cc/v1/historical/minutes is returning response.\u001b[0m\n",
      "\u001b[32m2025-07-29 05:39:10.254\u001b[0m | \u001b[1mINFO    \u001b[0m | \u001b[36mapi.coindesk_api\u001b[0m:\u001b[36mget_OHLC\u001b[0m:\u001b[36m104\u001b[0m - \u001b[1mmaking OHLC request\u001b[0m\n",
      "\u001b[32m2025-07-29 05:39:10.254\u001b[0m | \u001b[1mINFO    \u001b[0m | \u001b[36mapi.coindesk_api\u001b[0m:\u001b[36mmake_request\u001b[0m:\u001b[36m29\u001b[0m - \u001b[1mcalling https://data-api.coindesk.com/index/cc/v1/historical/minutes with params: {'groups': 'OHLC', 'to_ts': 1752302400.0, 'instrument': 'ADA-USD', 'limit': 2000, 'market': 'cadli', 'aggregate': '1', 'apply_mapping': 'true', 'response_format': 'JSON', 'fill': 'true'}\u001b[0m\n"
     ]
    },
    {
     "name": "stdout",
     "output_type": "stream",
     "text": [
      "Current chunk end 2025-07-12 02:40:00\n"
     ]
    },
    {
     "name": "stderr",
     "output_type": "stream",
     "text": [
      "\u001b[32m2025-07-29 05:39:10.999\u001b[0m | \u001b[1mINFO    \u001b[0m | \u001b[36mapi.coindesk_api\u001b[0m:\u001b[36mmake_request\u001b[0m:\u001b[36m57\u001b[0m - \u001b[1mcall to https://data-api.coindesk.com/index/cc/v1/historical/minutes is returning response.\u001b[0m\n",
      "\u001b[32m2025-07-29 05:39:11.003\u001b[0m | \u001b[1mINFO    \u001b[0m | \u001b[36mapi.coindesk_api\u001b[0m:\u001b[36mget_OHLC\u001b[0m:\u001b[36m104\u001b[0m - \u001b[1mmaking OHLC request\u001b[0m\n",
      "\u001b[32m2025-07-29 05:39:11.003\u001b[0m | \u001b[1mINFO    \u001b[0m | \u001b[36mapi.coindesk_api\u001b[0m:\u001b[36mmake_request\u001b[0m:\u001b[36m29\u001b[0m - \u001b[1mcalling https://data-api.coindesk.com/index/cc/v1/historical/minutes with params: {'groups': 'OHLC', 'to_ts': 1752422400.0, 'instrument': 'ADA-USD', 'limit': 2000, 'market': 'cadli', 'aggregate': '1', 'apply_mapping': 'true', 'response_format': 'JSON', 'fill': 'true'}\u001b[0m\n"
     ]
    },
    {
     "name": "stdout",
     "output_type": "stream",
     "text": [
      "Current chunk end 2025-07-13 12:00:00\n"
     ]
    },
    {
     "name": "stderr",
     "output_type": "stream",
     "text": [
      "\u001b[32m2025-07-29 05:39:11.671\u001b[0m | \u001b[1mINFO    \u001b[0m | \u001b[36mapi.coindesk_api\u001b[0m:\u001b[36mmake_request\u001b[0m:\u001b[36m57\u001b[0m - \u001b[1mcall to https://data-api.coindesk.com/index/cc/v1/historical/minutes is returning response.\u001b[0m\n",
      "\u001b[32m2025-07-29 05:39:11.674\u001b[0m | \u001b[1mINFO    \u001b[0m | \u001b[36mapi.coindesk_api\u001b[0m:\u001b[36mget_OHLC\u001b[0m:\u001b[36m104\u001b[0m - \u001b[1mmaking OHLC request\u001b[0m\n",
      "\u001b[32m2025-07-29 05:39:11.674\u001b[0m | \u001b[1mINFO    \u001b[0m | \u001b[36mapi.coindesk_api\u001b[0m:\u001b[36mmake_request\u001b[0m:\u001b[36m29\u001b[0m - \u001b[1mcalling https://data-api.coindesk.com/index/cc/v1/historical/minutes with params: {'groups': 'OHLC', 'to_ts': 1752542400.0, 'instrument': 'ADA-USD', 'limit': 2000, 'market': 'cadli', 'aggregate': '1', 'apply_mapping': 'true', 'response_format': 'JSON', 'fill': 'true'}\u001b[0m\n"
     ]
    },
    {
     "name": "stdout",
     "output_type": "stream",
     "text": [
      "Current chunk end 2025-07-14 21:20:00\n"
     ]
    },
    {
     "name": "stderr",
     "output_type": "stream",
     "text": [
      "\u001b[32m2025-07-29 05:39:17.065\u001b[0m | \u001b[1mINFO    \u001b[0m | \u001b[36mapi.coindesk_api\u001b[0m:\u001b[36mmake_request\u001b[0m:\u001b[36m57\u001b[0m - \u001b[1mcall to https://data-api.coindesk.com/index/cc/v1/historical/minutes is returning response.\u001b[0m\n",
      "\u001b[32m2025-07-29 05:39:17.068\u001b[0m | \u001b[1mINFO    \u001b[0m | \u001b[36mapi.coindesk_api\u001b[0m:\u001b[36mget_OHLC\u001b[0m:\u001b[36m104\u001b[0m - \u001b[1mmaking OHLC request\u001b[0m\n",
      "\u001b[32m2025-07-29 05:39:17.069\u001b[0m | \u001b[1mINFO    \u001b[0m | \u001b[36mapi.coindesk_api\u001b[0m:\u001b[36mmake_request\u001b[0m:\u001b[36m29\u001b[0m - \u001b[1mcalling https://data-api.coindesk.com/index/cc/v1/historical/minutes with params: {'groups': 'OHLC', 'to_ts': 1752662400.0, 'instrument': 'ADA-USD', 'limit': 2000, 'market': 'cadli', 'aggregate': '1', 'apply_mapping': 'true', 'response_format': 'JSON', 'fill': 'true'}\u001b[0m\n"
     ]
    },
    {
     "name": "stdout",
     "output_type": "stream",
     "text": [
      "Current chunk end 2025-07-16 06:40:00\n"
     ]
    },
    {
     "name": "stderr",
     "output_type": "stream",
     "text": [
      "\u001b[32m2025-07-29 05:39:24.268\u001b[0m | \u001b[1mINFO    \u001b[0m | \u001b[36mapi.coindesk_api\u001b[0m:\u001b[36mmake_request\u001b[0m:\u001b[36m57\u001b[0m - \u001b[1mcall to https://data-api.coindesk.com/index/cc/v1/historical/minutes is returning response.\u001b[0m\n",
      "\u001b[32m2025-07-29 05:39:24.271\u001b[0m | \u001b[1mINFO    \u001b[0m | \u001b[36mapi.coindesk_api\u001b[0m:\u001b[36mget_OHLC\u001b[0m:\u001b[36m104\u001b[0m - \u001b[1mmaking OHLC request\u001b[0m\n",
      "\u001b[32m2025-07-29 05:39:24.272\u001b[0m | \u001b[1mINFO    \u001b[0m | \u001b[36mapi.coindesk_api\u001b[0m:\u001b[36mmake_request\u001b[0m:\u001b[36m29\u001b[0m - \u001b[1mcalling https://data-api.coindesk.com/index/cc/v1/historical/minutes with params: {'groups': 'OHLC', 'to_ts': 1752782400.0, 'instrument': 'ADA-USD', 'limit': 2000, 'market': 'cadli', 'aggregate': '1', 'apply_mapping': 'true', 'response_format': 'JSON', 'fill': 'true'}\u001b[0m\n"
     ]
    },
    {
     "name": "stdout",
     "output_type": "stream",
     "text": [
      "Current chunk end 2025-07-17 16:00:00\n"
     ]
    },
    {
     "name": "stderr",
     "output_type": "stream",
     "text": [
      "\u001b[32m2025-07-29 05:39:35.122\u001b[0m | \u001b[1mINFO    \u001b[0m | \u001b[36mapi.coindesk_api\u001b[0m:\u001b[36mmake_request\u001b[0m:\u001b[36m57\u001b[0m - \u001b[1mcall to https://data-api.coindesk.com/index/cc/v1/historical/minutes is returning response.\u001b[0m\n",
      "\u001b[32m2025-07-29 05:39:35.125\u001b[0m | \u001b[1mINFO    \u001b[0m | \u001b[36mapi.coindesk_api\u001b[0m:\u001b[36mget_OHLC\u001b[0m:\u001b[36m104\u001b[0m - \u001b[1mmaking OHLC request\u001b[0m\n",
      "\u001b[32m2025-07-29 05:39:35.126\u001b[0m | \u001b[1mINFO    \u001b[0m | \u001b[36mapi.coindesk_api\u001b[0m:\u001b[36mmake_request\u001b[0m:\u001b[36m29\u001b[0m - \u001b[1mcalling https://data-api.coindesk.com/index/cc/v1/historical/minutes with params: {'groups': 'OHLC', 'to_ts': 1752902400.0, 'instrument': 'ADA-USD', 'limit': 2000, 'market': 'cadli', 'aggregate': '1', 'apply_mapping': 'true', 'response_format': 'JSON', 'fill': 'true'}\u001b[0m\n"
     ]
    },
    {
     "name": "stdout",
     "output_type": "stream",
     "text": [
      "Current chunk end 2025-07-19 01:20:00\n"
     ]
    },
    {
     "name": "stderr",
     "output_type": "stream",
     "text": [
      "\u001b[32m2025-07-29 05:39:43.454\u001b[0m | \u001b[1mINFO    \u001b[0m | \u001b[36mapi.coindesk_api\u001b[0m:\u001b[36mmake_request\u001b[0m:\u001b[36m57\u001b[0m - \u001b[1mcall to https://data-api.coindesk.com/index/cc/v1/historical/minutes is returning response.\u001b[0m\n",
      "\u001b[32m2025-07-29 05:39:43.457\u001b[0m | \u001b[1mINFO    \u001b[0m | \u001b[36mapi.coindesk_api\u001b[0m:\u001b[36mget_OHLC\u001b[0m:\u001b[36m104\u001b[0m - \u001b[1mmaking OHLC request\u001b[0m\n",
      "\u001b[32m2025-07-29 05:39:43.457\u001b[0m | \u001b[1mINFO    \u001b[0m | \u001b[36mapi.coindesk_api\u001b[0m:\u001b[36mmake_request\u001b[0m:\u001b[36m29\u001b[0m - \u001b[1mcalling https://data-api.coindesk.com/index/cc/v1/historical/minutes with params: {'groups': 'OHLC', 'to_ts': 1753022400.0, 'instrument': 'ADA-USD', 'limit': 2000, 'market': 'cadli', 'aggregate': '1', 'apply_mapping': 'true', 'response_format': 'JSON', 'fill': 'true'}\u001b[0m\n"
     ]
    },
    {
     "name": "stdout",
     "output_type": "stream",
     "text": [
      "Current chunk end 2025-07-20 10:40:00\n"
     ]
    },
    {
     "name": "stderr",
     "output_type": "stream",
     "text": [
      "\u001b[32m2025-07-29 05:39:52.664\u001b[0m | \u001b[1mINFO    \u001b[0m | \u001b[36mapi.coindesk_api\u001b[0m:\u001b[36mmake_request\u001b[0m:\u001b[36m57\u001b[0m - \u001b[1mcall to https://data-api.coindesk.com/index/cc/v1/historical/minutes is returning response.\u001b[0m\n",
      "\u001b[32m2025-07-29 05:39:52.667\u001b[0m | \u001b[1mINFO    \u001b[0m | \u001b[36mapi.coindesk_api\u001b[0m:\u001b[36mget_OHLC\u001b[0m:\u001b[36m104\u001b[0m - \u001b[1mmaking OHLC request\u001b[0m\n",
      "\u001b[32m2025-07-29 05:39:52.668\u001b[0m | \u001b[1mINFO    \u001b[0m | \u001b[36mapi.coindesk_api\u001b[0m:\u001b[36mmake_request\u001b[0m:\u001b[36m29\u001b[0m - \u001b[1mcalling https://data-api.coindesk.com/index/cc/v1/historical/minutes with params: {'groups': 'OHLC', 'to_ts': 1753142400.0, 'instrument': 'ADA-USD', 'limit': 2000, 'market': 'cadli', 'aggregate': '1', 'apply_mapping': 'true', 'response_format': 'JSON', 'fill': 'true'}\u001b[0m\n"
     ]
    },
    {
     "name": "stdout",
     "output_type": "stream",
     "text": [
      "Current chunk end 2025-07-21 20:00:00\n"
     ]
    },
    {
     "name": "stderr",
     "output_type": "stream",
     "text": [
      "\u001b[32m2025-07-29 05:39:59.878\u001b[0m | \u001b[1mINFO    \u001b[0m | \u001b[36mapi.coindesk_api\u001b[0m:\u001b[36mmake_request\u001b[0m:\u001b[36m57\u001b[0m - \u001b[1mcall to https://data-api.coindesk.com/index/cc/v1/historical/minutes is returning response.\u001b[0m\n",
      "\u001b[32m2025-07-29 05:39:59.881\u001b[0m | \u001b[1mINFO    \u001b[0m | \u001b[36mapi.coindesk_api\u001b[0m:\u001b[36mget_OHLC\u001b[0m:\u001b[36m104\u001b[0m - \u001b[1mmaking OHLC request\u001b[0m\n",
      "\u001b[32m2025-07-29 05:39:59.881\u001b[0m | \u001b[1mINFO    \u001b[0m | \u001b[36mapi.coindesk_api\u001b[0m:\u001b[36mmake_request\u001b[0m:\u001b[36m29\u001b[0m - \u001b[1mcalling https://data-api.coindesk.com/index/cc/v1/historical/minutes with params: {'groups': 'OHLC', 'to_ts': 1753262400.0, 'instrument': 'ADA-USD', 'limit': 2000, 'market': 'cadli', 'aggregate': '1', 'apply_mapping': 'true', 'response_format': 'JSON', 'fill': 'true'}\u001b[0m\n"
     ]
    },
    {
     "name": "stdout",
     "output_type": "stream",
     "text": [
      "Current chunk end 2025-07-23 05:20:00\n"
     ]
    },
    {
     "name": "stderr",
     "output_type": "stream",
     "text": [
      "\u001b[32m2025-07-29 05:40:07.970\u001b[0m | \u001b[1mINFO    \u001b[0m | \u001b[36mapi.coindesk_api\u001b[0m:\u001b[36mmake_request\u001b[0m:\u001b[36m57\u001b[0m - \u001b[1mcall to https://data-api.coindesk.com/index/cc/v1/historical/minutes is returning response.\u001b[0m\n",
      "\u001b[32m2025-07-29 05:40:07.973\u001b[0m | \u001b[1mINFO    \u001b[0m | \u001b[36mapi.coindesk_api\u001b[0m:\u001b[36mget_OHLC\u001b[0m:\u001b[36m104\u001b[0m - \u001b[1mmaking OHLC request\u001b[0m\n",
      "\u001b[32m2025-07-29 05:40:07.973\u001b[0m | \u001b[1mINFO    \u001b[0m | \u001b[36mapi.coindesk_api\u001b[0m:\u001b[36mmake_request\u001b[0m:\u001b[36m29\u001b[0m - \u001b[1mcalling https://data-api.coindesk.com/index/cc/v1/historical/minutes with params: {'groups': 'OHLC', 'to_ts': 1753382400.0, 'instrument': 'ADA-USD', 'limit': 2000, 'market': 'cadli', 'aggregate': '1', 'apply_mapping': 'true', 'response_format': 'JSON', 'fill': 'true'}\u001b[0m\n"
     ]
    },
    {
     "name": "stdout",
     "output_type": "stream",
     "text": [
      "Current chunk end 2025-07-24 14:40:00\n"
     ]
    },
    {
     "name": "stderr",
     "output_type": "stream",
     "text": [
      "\u001b[32m2025-07-29 05:40:12.435\u001b[0m | \u001b[1mINFO    \u001b[0m | \u001b[36mapi.coindesk_api\u001b[0m:\u001b[36mmake_request\u001b[0m:\u001b[36m57\u001b[0m - \u001b[1mcall to https://data-api.coindesk.com/index/cc/v1/historical/minutes is returning response.\u001b[0m\n",
      "\u001b[32m2025-07-29 05:40:12.438\u001b[0m | \u001b[1mINFO    \u001b[0m | \u001b[36mapi.coindesk_api\u001b[0m:\u001b[36mget_OHLC\u001b[0m:\u001b[36m104\u001b[0m - \u001b[1mmaking OHLC request\u001b[0m\n",
      "\u001b[32m2025-07-29 05:40:12.439\u001b[0m | \u001b[1mINFO    \u001b[0m | \u001b[36mapi.coindesk_api\u001b[0m:\u001b[36mmake_request\u001b[0m:\u001b[36m29\u001b[0m - \u001b[1mcalling https://data-api.coindesk.com/index/cc/v1/historical/minutes with params: {'groups': 'OHLC', 'to_ts': 1753502400.0, 'instrument': 'ADA-USD', 'limit': 2000, 'market': 'cadli', 'aggregate': '1', 'apply_mapping': 'true', 'response_format': 'JSON', 'fill': 'true'}\u001b[0m\n"
     ]
    },
    {
     "name": "stdout",
     "output_type": "stream",
     "text": [
      "Current chunk end 2025-07-26 00:00:00\n"
     ]
    },
    {
     "name": "stderr",
     "output_type": "stream",
     "text": [
      "\u001b[32m2025-07-29 05:40:20.908\u001b[0m | \u001b[1mINFO    \u001b[0m | \u001b[36mapi.coindesk_api\u001b[0m:\u001b[36mmake_request\u001b[0m:\u001b[36m57\u001b[0m - \u001b[1mcall to https://data-api.coindesk.com/index/cc/v1/historical/minutes is returning response.\u001b[0m\n",
      "\u001b[32m2025-07-29 05:40:20.912\u001b[0m | \u001b[1mINFO    \u001b[0m | \u001b[36mapi.coindesk_api\u001b[0m:\u001b[36mget_OHLC\u001b[0m:\u001b[36m104\u001b[0m - \u001b[1mmaking OHLC request\u001b[0m\n",
      "\u001b[32m2025-07-29 05:40:20.912\u001b[0m | \u001b[1mINFO    \u001b[0m | \u001b[36mapi.coindesk_api\u001b[0m:\u001b[36mmake_request\u001b[0m:\u001b[36m29\u001b[0m - \u001b[1mcalling https://data-api.coindesk.com/index/cc/v1/historical/minutes with params: {'groups': 'OHLC', 'to_ts': 1753622400.0, 'instrument': 'ADA-USD', 'limit': 2000, 'market': 'cadli', 'aggregate': '1', 'apply_mapping': 'true', 'response_format': 'JSON', 'fill': 'true'}\u001b[0m\n"
     ]
    },
    {
     "name": "stdout",
     "output_type": "stream",
     "text": [
      "Current chunk end 2025-07-27 09:20:00\n"
     ]
    },
    {
     "name": "stderr",
     "output_type": "stream",
     "text": [
      "\u001b[32m2025-07-29 05:40:21.993\u001b[0m | \u001b[1mINFO    \u001b[0m | \u001b[36mapi.coindesk_api\u001b[0m:\u001b[36mmake_request\u001b[0m:\u001b[36m57\u001b[0m - \u001b[1mcall to https://data-api.coindesk.com/index/cc/v1/historical/minutes is returning response.\u001b[0m\n",
      "\u001b[32m2025-07-29 05:40:21.996\u001b[0m | \u001b[1mINFO    \u001b[0m | \u001b[36mapi.coindesk_api\u001b[0m:\u001b[36mget_OHLC\u001b[0m:\u001b[36m104\u001b[0m - \u001b[1mmaking OHLC request\u001b[0m\n",
      "\u001b[32m2025-07-29 05:40:21.997\u001b[0m | \u001b[1mINFO    \u001b[0m | \u001b[36mapi.coindesk_api\u001b[0m:\u001b[36mmake_request\u001b[0m:\u001b[36m29\u001b[0m - \u001b[1mcalling https://data-api.coindesk.com/index/cc/v1/historical/minutes with params: {'groups': 'OHLC', 'to_ts': 1753742400.0, 'instrument': 'ADA-USD', 'limit': 2000, 'market': 'cadli', 'aggregate': '1', 'apply_mapping': 'true', 'response_format': 'JSON', 'fill': 'true'}\u001b[0m\n"
     ]
    },
    {
     "name": "stdout",
     "output_type": "stream",
     "text": [
      "Current chunk end 2025-07-28 18:40:00\n"
     ]
    },
    {
     "name": "stderr",
     "output_type": "stream",
     "text": [
      "\u001b[32m2025-07-29 05:40:22.741\u001b[0m | \u001b[1mINFO    \u001b[0m | \u001b[36mapi.coindesk_api\u001b[0m:\u001b[36mmake_request\u001b[0m:\u001b[36m57\u001b[0m - \u001b[1mcall to https://data-api.coindesk.com/index/cc/v1/historical/minutes is returning response.\u001b[0m\n",
      "\u001b[32m2025-07-29 05:40:22.744\u001b[0m | \u001b[1mINFO    \u001b[0m | \u001b[36mapi.coindesk_api\u001b[0m:\u001b[36mget_OHLC\u001b[0m:\u001b[36m104\u001b[0m - \u001b[1mmaking OHLC request\u001b[0m\n",
      "\u001b[32m2025-07-29 05:40:22.745\u001b[0m | \u001b[1mINFO    \u001b[0m | \u001b[36mapi.coindesk_api\u001b[0m:\u001b[36mmake_request\u001b[0m:\u001b[36m29\u001b[0m - \u001b[1mcalling https://data-api.coindesk.com/index/cc/v1/historical/minutes with params: {'groups': 'OHLC', 'to_ts': 1753779600.0, 'instrument': 'ADA-USD', 'limit': 620, 'market': 'cadli', 'aggregate': '1', 'apply_mapping': 'true', 'response_format': 'JSON', 'fill': 'true'}\u001b[0m\n"
     ]
    },
    {
     "name": "stdout",
     "output_type": "stream",
     "text": [
      "Current chunk end 2025-07-29 05:00:00\n"
     ]
    },
    {
     "name": "stderr",
     "output_type": "stream",
     "text": [
      "\u001b[32m2025-07-29 05:40:23.319\u001b[0m | \u001b[1mINFO    \u001b[0m | \u001b[36mapi.coindesk_api\u001b[0m:\u001b[36mmake_request\u001b[0m:\u001b[36m57\u001b[0m - \u001b[1mcall to https://data-api.coindesk.com/index/cc/v1/historical/minutes is returning response.\u001b[0m\n"
     ]
    },
    {
     "name": "stdout",
     "output_type": "stream",
     "text": [
      "making dir\n",
      "failed to save\n"
     ]
    }
   ],
   "source": [
    "df = get_OHLC(\n",
    "    datetime(2025,7,1)\n",
    ")\n",
    "\n",
    "# df = yf.download(\"TSLA\", start=\"2025-07-24\", end=\"2025-07-25\", interval=\"1M\")"
   ]
  },
  {
   "cell_type": "code",
   "execution_count": null,
   "id": "3f64f265",
   "metadata": {},
   "outputs": [
    {
     "ename": "ImportError",
     "evalue": "Unable to find a usable engine; tried using: 'pyarrow', 'fastparquet'.\nA suitable version of pyarrow or fastparquet is required for parquet support.\nTrying to import the above resulted in these errors:\n - Missing optional dependency 'pyarrow'. pyarrow is required for parquet support. Use pip or conda to install pyarrow.\n - Missing optional dependency 'fastparquet'. fastparquet is required for parquet support. Use pip or conda to install fastparquet.",
     "output_type": "error",
     "traceback": [
      "\u001b[31m---------------------------------------------------------------------------\u001b[39m",
      "\u001b[31mImportError\u001b[39m                               Traceback (most recent call last)",
      "\u001b[36mCell\u001b[39m\u001b[36m \u001b[39m\u001b[32mIn[5]\u001b[39m\u001b[32m, line 2\u001b[39m\n\u001b[32m      1\u001b[39m df\n\u001b[32m----> \u001b[39m\u001b[32m2\u001b[39m \u001b[43mdata\u001b[49m\u001b[43m.\u001b[49m\u001b[43msave_df\u001b[49m\u001b[43m(\u001b[49m\u001b[43mdf\u001b[49m\u001b[43m,\u001b[49m\u001b[43m \u001b[49m\u001b[33;43m'\u001b[39;49m\u001b[33;43mtest\u001b[39;49m\u001b[33;43m'\u001b[39;49m\u001b[43m,\u001b[49m\u001b[43m \u001b[49m\u001b[43mpath_append\u001b[49m\u001b[43m=\u001b[49m\u001b[33;43m'\u001b[39;49m\u001b[33;43m.\u001b[39;49m\u001b[33;43m'\u001b[39;49m\u001b[43m)\u001b[49m\n",
      "\u001b[36mFile \u001b[39m\u001b[32m~/Code/dca-bot/notebooks/../src/data/data.py:48\u001b[39m, in \u001b[36msave_df\u001b[39m\u001b[34m(df, file_name, path_append, file_type)\u001b[39m\n\u001b[32m     46\u001b[39m     df.to_csv(\u001b[33mf\u001b[39m\u001b[33m\"\u001b[39m\u001b[38;5;132;01m{\u001b[39;00m\u001b[38;5;250m \u001b[39mdest_dir\u001b[38;5;250m \u001b[39m\u001b[38;5;132;01m}\u001b[39;00m\u001b[38;5;132;01m{\u001b[39;00m\u001b[38;5;250m \u001b[39mfile_name\u001b[38;5;250m \u001b[39m\u001b[38;5;132;01m}\u001b[39;00m\u001b[33m.csv\u001b[39m\u001b[33m\"\u001b[39m)\n\u001b[32m     47\u001b[39m \u001b[38;5;28;01mcase\u001b[39;00m \u001b[33m'\u001b[39m\u001b[33mPARQUET\u001b[39m\u001b[33m'\u001b[39m:\n\u001b[32m---> \u001b[39m\u001b[32m48\u001b[39m     \u001b[43mdf\u001b[49m\u001b[43m.\u001b[49m\u001b[43mto_parquet\u001b[49m\u001b[43m(\u001b[49m\u001b[33;43mf\u001b[39;49m\u001b[33;43m\"\u001b[39;49m\u001b[38;5;132;43;01m{\u001b[39;49;00m\u001b[38;5;250;43m \u001b[39;49m\u001b[43mdest_dir\u001b[49m\u001b[38;5;250;43m \u001b[39;49m\u001b[38;5;132;43;01m}\u001b[39;49;00m\u001b[38;5;132;43;01m{\u001b[39;49;00m\u001b[38;5;250;43m \u001b[39;49m\u001b[43mfile_name\u001b[49m\u001b[38;5;250;43m \u001b[39;49m\u001b[38;5;132;43;01m}\u001b[39;49;00m\u001b[33;43m.parquet\u001b[39;49m\u001b[33;43m\"\u001b[39;49m\u001b[43m)\u001b[49m\n",
      "\u001b[36mFile \u001b[39m\u001b[32m~/Code/dca-bot/venv311/lib64/python3.11/site-packages/pandas/util/_decorators.py:333\u001b[39m, in \u001b[36mdeprecate_nonkeyword_arguments.<locals>.decorate.<locals>.wrapper\u001b[39m\u001b[34m(*args, **kwargs)\u001b[39m\n\u001b[32m    327\u001b[39m \u001b[38;5;28;01mif\u001b[39;00m \u001b[38;5;28mlen\u001b[39m(args) > num_allow_args:\n\u001b[32m    328\u001b[39m     warnings.warn(\n\u001b[32m    329\u001b[39m         msg.format(arguments=_format_argument_list(allow_args)),\n\u001b[32m    330\u001b[39m         \u001b[38;5;167;01mFutureWarning\u001b[39;00m,\n\u001b[32m    331\u001b[39m         stacklevel=find_stack_level(),\n\u001b[32m    332\u001b[39m     )\n\u001b[32m--> \u001b[39m\u001b[32m333\u001b[39m \u001b[38;5;28;01mreturn\u001b[39;00m \u001b[43mfunc\u001b[49m\u001b[43m(\u001b[49m\u001b[43m*\u001b[49m\u001b[43margs\u001b[49m\u001b[43m,\u001b[49m\u001b[43m \u001b[49m\u001b[43m*\u001b[49m\u001b[43m*\u001b[49m\u001b[43mkwargs\u001b[49m\u001b[43m)\u001b[49m\n",
      "\u001b[36mFile \u001b[39m\u001b[32m~/Code/dca-bot/venv311/lib64/python3.11/site-packages/pandas/core/frame.py:3118\u001b[39m, in \u001b[36mDataFrame.to_parquet\u001b[39m\u001b[34m(self, path, engine, compression, index, partition_cols, storage_options, **kwargs)\u001b[39m\n\u001b[32m   3037\u001b[39m \u001b[38;5;250m\u001b[39m\u001b[33;03m\"\"\"\u001b[39;00m\n\u001b[32m   3038\u001b[39m \u001b[33;03mWrite a DataFrame to the binary parquet format.\u001b[39;00m\n\u001b[32m   3039\u001b[39m \n\u001b[32m   (...)\u001b[39m\u001b[32m   3114\u001b[39m \u001b[33;03m>>> content = f.read()\u001b[39;00m\n\u001b[32m   3115\u001b[39m \u001b[33;03m\"\"\"\u001b[39;00m\n\u001b[32m   3116\u001b[39m \u001b[38;5;28;01mfrom\u001b[39;00m\u001b[38;5;250m \u001b[39m\u001b[34;01mpandas\u001b[39;00m\u001b[34;01m.\u001b[39;00m\u001b[34;01mio\u001b[39;00m\u001b[34;01m.\u001b[39;00m\u001b[34;01mparquet\u001b[39;00m\u001b[38;5;250m \u001b[39m\u001b[38;5;28;01mimport\u001b[39;00m to_parquet\n\u001b[32m-> \u001b[39m\u001b[32m3118\u001b[39m \u001b[38;5;28;01mreturn\u001b[39;00m \u001b[43mto_parquet\u001b[49m\u001b[43m(\u001b[49m\n\u001b[32m   3119\u001b[39m \u001b[43m    \u001b[49m\u001b[38;5;28;43mself\u001b[39;49m\u001b[43m,\u001b[49m\n\u001b[32m   3120\u001b[39m \u001b[43m    \u001b[49m\u001b[43mpath\u001b[49m\u001b[43m,\u001b[49m\n\u001b[32m   3121\u001b[39m \u001b[43m    \u001b[49m\u001b[43mengine\u001b[49m\u001b[43m,\u001b[49m\n\u001b[32m   3122\u001b[39m \u001b[43m    \u001b[49m\u001b[43mcompression\u001b[49m\u001b[43m=\u001b[49m\u001b[43mcompression\u001b[49m\u001b[43m,\u001b[49m\n\u001b[32m   3123\u001b[39m \u001b[43m    \u001b[49m\u001b[43mindex\u001b[49m\u001b[43m=\u001b[49m\u001b[43mindex\u001b[49m\u001b[43m,\u001b[49m\n\u001b[32m   3124\u001b[39m \u001b[43m    \u001b[49m\u001b[43mpartition_cols\u001b[49m\u001b[43m=\u001b[49m\u001b[43mpartition_cols\u001b[49m\u001b[43m,\u001b[49m\n\u001b[32m   3125\u001b[39m \u001b[43m    \u001b[49m\u001b[43mstorage_options\u001b[49m\u001b[43m=\u001b[49m\u001b[43mstorage_options\u001b[49m\u001b[43m,\u001b[49m\n\u001b[32m   3126\u001b[39m \u001b[43m    \u001b[49m\u001b[43m*\u001b[49m\u001b[43m*\u001b[49m\u001b[43mkwargs\u001b[49m\u001b[43m,\u001b[49m\n\u001b[32m   3127\u001b[39m \u001b[43m\u001b[49m\u001b[43m)\u001b[49m\n",
      "\u001b[36mFile \u001b[39m\u001b[32m~/Code/dca-bot/venv311/lib64/python3.11/site-packages/pandas/io/parquet.py:478\u001b[39m, in \u001b[36mto_parquet\u001b[39m\u001b[34m(df, path, engine, compression, index, storage_options, partition_cols, filesystem, **kwargs)\u001b[39m\n\u001b[32m    476\u001b[39m \u001b[38;5;28;01mif\u001b[39;00m \u001b[38;5;28misinstance\u001b[39m(partition_cols, \u001b[38;5;28mstr\u001b[39m):\n\u001b[32m    477\u001b[39m     partition_cols = [partition_cols]\n\u001b[32m--> \u001b[39m\u001b[32m478\u001b[39m impl = \u001b[43mget_engine\u001b[49m\u001b[43m(\u001b[49m\u001b[43mengine\u001b[49m\u001b[43m)\u001b[49m\n\u001b[32m    480\u001b[39m path_or_buf: FilePath | WriteBuffer[\u001b[38;5;28mbytes\u001b[39m] = io.BytesIO() \u001b[38;5;28;01mif\u001b[39;00m path \u001b[38;5;129;01mis\u001b[39;00m \u001b[38;5;28;01mNone\u001b[39;00m \u001b[38;5;28;01melse\u001b[39;00m path\n\u001b[32m    482\u001b[39m impl.write(\n\u001b[32m    483\u001b[39m     df,\n\u001b[32m    484\u001b[39m     path_or_buf,\n\u001b[32m   (...)\u001b[39m\u001b[32m    490\u001b[39m     **kwargs,\n\u001b[32m    491\u001b[39m )\n",
      "\u001b[36mFile \u001b[39m\u001b[32m~/Code/dca-bot/venv311/lib64/python3.11/site-packages/pandas/io/parquet.py:68\u001b[39m, in \u001b[36mget_engine\u001b[39m\u001b[34m(engine)\u001b[39m\n\u001b[32m     65\u001b[39m         \u001b[38;5;28;01mexcept\u001b[39;00m \u001b[38;5;167;01mImportError\u001b[39;00m \u001b[38;5;28;01mas\u001b[39;00m err:\n\u001b[32m     66\u001b[39m             error_msgs += \u001b[33m\"\u001b[39m\u001b[38;5;130;01m\\n\u001b[39;00m\u001b[33m - \u001b[39m\u001b[33m\"\u001b[39m + \u001b[38;5;28mstr\u001b[39m(err)\n\u001b[32m---> \u001b[39m\u001b[32m68\u001b[39m     \u001b[38;5;28;01mraise\u001b[39;00m \u001b[38;5;167;01mImportError\u001b[39;00m(\n\u001b[32m     69\u001b[39m         \u001b[33m\"\u001b[39m\u001b[33mUnable to find a usable engine; \u001b[39m\u001b[33m\"\u001b[39m\n\u001b[32m     70\u001b[39m         \u001b[33m\"\u001b[39m\u001b[33mtried using: \u001b[39m\u001b[33m'\u001b[39m\u001b[33mpyarrow\u001b[39m\u001b[33m'\u001b[39m\u001b[33m, \u001b[39m\u001b[33m'\u001b[39m\u001b[33mfastparquet\u001b[39m\u001b[33m'\u001b[39m\u001b[33m.\u001b[39m\u001b[38;5;130;01m\\n\u001b[39;00m\u001b[33m\"\u001b[39m\n\u001b[32m     71\u001b[39m         \u001b[33m\"\u001b[39m\u001b[33mA suitable version of \u001b[39m\u001b[33m\"\u001b[39m\n\u001b[32m     72\u001b[39m         \u001b[33m\"\u001b[39m\u001b[33mpyarrow or fastparquet is required for parquet \u001b[39m\u001b[33m\"\u001b[39m\n\u001b[32m     73\u001b[39m         \u001b[33m\"\u001b[39m\u001b[33msupport.\u001b[39m\u001b[38;5;130;01m\\n\u001b[39;00m\u001b[33m\"\u001b[39m\n\u001b[32m     74\u001b[39m         \u001b[33m\"\u001b[39m\u001b[33mTrying to import the above resulted in these errors:\u001b[39m\u001b[33m\"\u001b[39m\n\u001b[32m     75\u001b[39m         \u001b[33mf\u001b[39m\u001b[33m\"\u001b[39m\u001b[38;5;132;01m{\u001b[39;00merror_msgs\u001b[38;5;132;01m}\u001b[39;00m\u001b[33m\"\u001b[39m\n\u001b[32m     76\u001b[39m     )\n\u001b[32m     78\u001b[39m \u001b[38;5;28;01mif\u001b[39;00m engine == \u001b[33m\"\u001b[39m\u001b[33mpyarrow\u001b[39m\u001b[33m\"\u001b[39m:\n\u001b[32m     79\u001b[39m     \u001b[38;5;28;01mreturn\u001b[39;00m PyArrowImpl()\n",
      "\u001b[31mImportError\u001b[39m: Unable to find a usable engine; tried using: 'pyarrow', 'fastparquet'.\nA suitable version of pyarrow or fastparquet is required for parquet support.\nTrying to import the above resulted in these errors:\n - Missing optional dependency 'pyarrow'. pyarrow is required for parquet support. Use pip or conda to install pyarrow.\n - Missing optional dependency 'fastparquet'. fastparquet is required for parquet support. Use pip or conda to install fastparquet."
     ]
    }
   ],
   "source": [
    "df"
   ]
  },
  {
   "cell_type": "code",
   "execution_count": null,
   "id": "16022fde",
   "metadata": {},
   "outputs": [],
   "source": [
    "df = data.get_df(\n",
    "    Asset.ADA_USD,\n",
    "    Timeframe.H1,\n",
    "    path_append='.',\n",
    "    file_type='PARQUET'\n",
    ")\n"
   ]
  },
  {
   "cell_type": "code",
   "execution_count": null,
   "id": "b7ad6aa0",
   "metadata": {},
   "outputs": [],
   "source": [
    "df_ta = ta.volatility.BollingerBands(close=df['close'], window=20, window_dev=2)"
   ]
  },
  {
   "cell_type": "code",
   "execution_count": null,
   "id": "02e7d60a",
   "metadata": {},
   "outputs": [],
   "source": [
    "df_ta"
   ]
  },
  {
   "cell_type": "code",
   "execution_count": null,
   "id": "4f976e37",
   "metadata": {},
   "outputs": [],
   "source": [
    "from_date = datetime(2024, 1, 1)\n",
    "to_date = datetime.now().replace(microsecond=0, second=0, minute=0)\n",
    "tick_limit=2000\n",
    "\n",
    "def fetch_data(from_dt: datetime, to_dt: datetime):\n",
    "    # This is your second function that gets called for each chunk\n",
    "    # Replace this with actual logic (e.g., API calls, DB queries, etc.)\n",
    "    print(f\"Fetching from {from_dt} to {to_dt}\")\n",
    "    return [(from_dt, to_dt)]  # Dummy return for example\n",
    "\n",
    "def chunked_fetch(start: datetime, end: datetime):\n",
    "    chunk_size = timedelta(hours=2000)\n",
    "    results = []\n",
    "\n",
    "    current = start\n",
    "    while current < end:\n",
    "        chunk_end = min(current + chunk_size, end)\n",
    "        chunk_result = fetch_data(current, chunk_end)\n",
    "        results.extend(chunk_result)\n",
    "        current = chunk_end\n",
    "\n",
    "    return results\n",
    "\n",
    "result = chunked_fetch(start=from_date, end=to_date)\n",
    "\n",
    "print(result)"
   ]
  },
  {
   "cell_type": "code",
   "execution_count": null,
   "id": "1b979ceb",
   "metadata": {},
   "outputs": [],
   "source": [
    "df = data.get_df(Asset.ADA_USD, Timeframe.H1, \".\", 'PARQUET')\n",
    "df.head(10)"
   ]
  },
  {
   "cell_type": "code",
   "execution_count": null,
   "id": "e6a2875e",
   "metadata": {},
   "outputs": [],
   "source": [
    "class Trade(BaseModel):\n",
    "    # price of quote crypto\n",
    "    open_price: float = 0.0\n",
    "    # total value of quote crypto in base\n",
    "    open_value: float = 0.0\n",
    "    # trade size of base crypto/currency(USD)\n",
    "    total_quantity: float = 0.0\n",
    "    # price of quote crypto\n",
    "    current_price: float = 0.0\n",
    "    # profit/loss in base crypto/currency(USD)\n",
    "    profit_loss: float = 0.0\n",
    "    # profit/loss percentage\n",
    "    profit_loss_pct: float = 0.0\n",
    "    # value of quote crypto in base\n",
    "    current_value: float = 0.0\n",
    "    average_entry_price = 0.0\n",
    "    averaging_orders_prices: list = []\n",
    "    averaging_order_sizes: list = []\n",
    "    # list of the averaging order quantities (order_size / price), how many of the quote did you get\n",
    "    averaging_orders_qty: list = []\n",
    "    averaging_orders_filled: int = 0\n",
    "    last_order_price: float = 0.0\n",
    "\n",
    "#bot config\n",
    "base_order_size = 20\n",
    "averaging_order_size = 40\n",
    "max_averaging_orders = 6\n",
    "take_profit = 1.5\n",
    "price_deviation = 1.5\n",
    "averaging_order_size_mul = 1.28\n",
    "averaging_order_step_mul = 1.85\n",
    "\n",
    "def calc_avgeraging_order_prices(initial_price:float, deviation:float, multiplier:float):\n",
    "        prices = []\n",
    "        cumulative_multiplier = 0.0\n",
    "\n",
    "        for i in range(6):\n",
    "            cumulative_multiplier += multiplier ** i\n",
    "            percent_drop = deviation * cumulative_multiplier\n",
    "            price = initial_price * (1 - percent_drop / 100)\n",
    "            prices.append(round(price, 7))\n",
    "\n",
    "        return prices\n",
    "\n",
    "def calc_averaging_order_size(avg_order_size: float, multiplier: float):\n",
    "     sizes = [\n",
    "          round(avg_order_size * (multiplier ** i), 2)\n",
    "          for i in range(6)\n",
    "     ]\n",
    "     return sizes\n",
    "\n",
    "def calc_profit_losses(current_price: float, total_cost: float, total_qty: float):\n",
    "    current_value = current_price * total_qty\n",
    "    profit_loss = current_value - total_cost\n",
    "    profit_loss_pct = (profit_loss / total_cost) * 100\n",
    "\n",
    "    return round(profit_loss, 6), round(profit_loss_pct, 6)\n",
    "\n",
    "def open_trade(index, row, df, trade):\n",
    "    trade.total_quantity = base_order_size / float(row.open)\n",
    "    trade.open_value = float(trade.total_quantity * float(row.open))\n",
    "    trade.last_order_price = float(row.open)\n",
    "    trade.averaging_orders_prices = calc_avgeraging_order_prices(\n",
    "        initial_price=float(row.open),\n",
    "        deviation=price_deviation,\n",
    "        multiplier=averaging_order_step_mul\n",
    "        )\n",
    "    trade.averaging_order_sizes = calc_averaging_order_size(\n",
    "         avg_order_size=averaging_order_size,\n",
    "         multiplier=averaging_order_size_mul\n",
    "    )\n",
    "    \n",
    "    df.loc[index, 'trade_action'] = 'opened_trade'\n",
    "    df.loc[index, 'trade_value'] = trade.open_value\n",
    "    df.loc[index + 1, 'trade_action'] = 'in_trade'\n",
    "    df.loc[index, 'avgeraging_orders'] = ','.join([str(item) + ',' for item in trade.averaging_orders_prices])\n",
    "    df.loc[index, 'averaging_orders_sizes'] = ','.join([str(item) + ',' for item in trade.averaging_order_sizes])\n",
    "     \n",
    "\n",
    "def run_backtest(df):\n",
    "    df_copy = df.copy()\n",
    "    df_copy['trade_action'] = 'no_trade'\n",
    "    df_copy['trade_value'] = 'None'\n",
    "    df_copy['trade_profit_loss'] = 0.0\n",
    "    df_copy['trade_profit_loss_pct'] = 0.0\n",
    "\n",
    "    trades: list[Trade] = []\n",
    "\n",
    "    current_trade = Trade()\n",
    "\n",
    "    total_profit = 0.0\n",
    "    hit_take_profit = False\n",
    "\n",
    "    #account info\n",
    "    starting_account_balance = 500.0\n",
    "    current_account_balance = 500.0\n",
    "\n",
    "    for index, row in enumerate(df_copy.itertuples(), 0):\n",
    "        if current_trade.profit_loss_pct > take_profit:\n",
    "            total_profit += current_trade.profit_loss\n",
    "            df_copy.loc[index, 'trade_action'] = 'closed_trade'\n",
    "            df_copy.loc[index + 1, 'trade_action'] = 'no_trade'\n",
    "            trades.append(current_trade)\n",
    "            current_trade = Trade()\n",
    "        elif row.trade_action == 'in_trade':\n",
    "            # maintain trade\n",
    "            avg_orders_filled = current_trade.averaging_orders_filled\n",
    "            if float(row.low) < current_trade.averaging_orders_prices[avg_orders_filled] and avg_orders_filled < 5:\n",
    "                 current_trade.last_order_price = current_trade.averaging_orders_prices[avg_orders_filled]\n",
    "                 current_trade.total_quantity += (current_trade.averaging_order_sizes[avg_orders_filled] / float(row.low))\n",
    "                 current_trade.open_value += current_trade.averaging_order_sizes[avg_orders_filled]\n",
    "\n",
    "                 df_copy.loc[index, 'trade_action'] = f\"avg. order {avg_orders_filled + 1} filled\"\n",
    "                 if (avg_orders_filled < 5): current_trade.averaging_orders_filled += 1\n",
    "            current_trade.current_value = float(current_trade.total_quantity * float(row.open))\n",
    "            \n",
    "            # current_price_deviation = ((float(row.open) - current_trade.last_order_price) / current_trade.last_order_price) * 100\n",
    "\n",
    "            profit_loss, profit_loss_pct = calc_profit_losses(\n",
    "                 current_price=float(row.high), \n",
    "                 total_cost=current_trade.open_value, \n",
    "                 total_qty=current_trade.total_quantity\n",
    "                 )\n",
    "            current_trade.profit_loss = profit_loss\n",
    "            current_trade.profit_loss_pct = profit_loss_pct\n",
    "\n",
    "            df_copy.loc[index, 'trade_value'] = current_trade.current_value\n",
    "            df_copy.loc[index, 'trade_profit_loss'] = current_trade.profit_loss\n",
    "            df_copy.loc[index, 'trade_profit_loss_pct'] = current_trade.profit_loss_pct\n",
    "            # df_copy.loc[index, 'current_trade'] = current_trade\n",
    "            df_copy.loc[index + 1, 'trade_action'] = 'in_trade'\n",
    "\n",
    "        elif row.trade_action == 'no_trade':\n",
    "            # open trade\n",
    "            open_trade(index, row, df_copy, current_trade)\n",
    "\n",
    "    return df_copy, trades, total_profit"
   ]
  },
  {
   "cell_type": "code",
   "execution_count": null,
   "id": "5b20f8d7",
   "metadata": {},
   "outputs": [],
   "source": [
    "df_tested, trades, profit = run_backtest(df)\n"
   ]
  },
  {
   "cell_type": "code",
   "execution_count": null,
   "id": "09e9e360",
   "metadata": {},
   "outputs": [],
   "source": [
    "data.save_df(df_tested, \"ADA_tested\", \".\", \"CSV\")\n",
    "print(len(trades))\n",
    "print(sum(trade.profit_loss for trade in trades))\n",
    "print(trades)\n",
    "print(profit)\n",
    "df_tested.head(60)"
   ]
  },
  {
   "cell_type": "code",
   "execution_count": null,
   "id": "c7b7c0e6",
   "metadata": {},
   "outputs": [],
   "source": [
    "%%timeit\n",
    "run_backtest(df)"
   ]
  },
  {
   "cell_type": "markdown",
   "id": "0d84d96b",
   "metadata": {},
   "source": [
    "# Testing Ways to Loop or Vectorize DF:"
   ]
  },
  {
   "cell_type": "code",
   "execution_count": null,
   "id": "0f034003",
   "metadata": {},
   "outputs": [],
   "source": [
    "import pandas as pd\n",
    "import numpy as np"
   ]
  },
  {
   "cell_type": "code",
   "execution_count": null,
   "id": "06c9fefb",
   "metadata": {},
   "outputs": [],
   "source": [
    "def get_data(size = 10_000):\n",
    "    df = pd.DataFrame()\n",
    "    df['age'] = np.random.randint(0, 100, size)\n",
    "    df['time_in_bed'] = np.random.randint(0, 9, size)\n",
    "    df['pct_sleeping'] = np.random.rand(size)\n",
    "    df['favorite_food'] = np.random.choice(['pizza', 'taco', 'ice-cream'], size)\n",
    "    df['hate_food'] = np.random.choice(['broccoli', 'candy corn', 'eggs'], size)\n",
    "    return df"
   ]
  },
  {
   "cell_type": "markdown",
   "id": "a85b58da",
   "metadata": {},
   "source": [
    "## The problem\n",
    "Reqard calc:\n",
    "- If they were in bed for more than 5 hours AND they were sleeping for more than 50% we give them their favorite food.\n",
    "- Otherwise we give them their hate food.\n",
    "- If they are over 90 years old give their favorite foor regardless"
   ]
  },
  {
   "cell_type": "code",
   "execution_count": null,
   "id": "74bb5856",
   "metadata": {},
   "outputs": [],
   "source": [
    "def reward_calc(row):\n",
    "    if row['age'] >= 90:\n",
    "        return row['favorite_food']\n",
    "    if (row['time_in_bed'] > 5) & (row['pct_sleeping'] > 0.5):\n",
    "        return row['favorite_food']\n",
    "    return row['hate_food']"
   ]
  },
  {
   "cell_type": "markdown",
   "id": "6cf96ad8",
   "metadata": {},
   "source": [
    "### Level 1 - Loop (Slowest)"
   ]
  },
  {
   "cell_type": "code",
   "execution_count": null,
   "id": "4dfc7c2d",
   "metadata": {},
   "outputs": [],
   "source": [
    "df = get_data()"
   ]
  },
  {
   "cell_type": "code",
   "execution_count": null,
   "id": "7a44eeea",
   "metadata": {},
   "outputs": [],
   "source": [
    "%%timeit\n",
    "for index, row in df.iterrows():\n",
    "    df.loc[index, 'reward'] = reward_calc(row)"
   ]
  },
  {
   "cell_type": "markdown",
   "id": "abc47cf0",
   "metadata": {},
   "source": [
    "### Level 2 - Apply"
   ]
  },
  {
   "cell_type": "code",
   "execution_count": null,
   "id": "9bd1ae8c",
   "metadata": {},
   "outputs": [],
   "source": [
    "df = get_data()"
   ]
  },
  {
   "cell_type": "code",
   "execution_count": null,
   "id": "2609e544",
   "metadata": {},
   "outputs": [],
   "source": [
    "%%timeit\n",
    "df['reward'] = df.apply(reward_calc, axis=1)"
   ]
  },
  {
   "cell_type": "markdown",
   "id": "877a2fcd",
   "metadata": {},
   "source": [
    "### Level 3 - Vectorized (Fastest)"
   ]
  },
  {
   "cell_type": "code",
   "execution_count": null,
   "id": "e66cb08e",
   "metadata": {},
   "outputs": [],
   "source": [
    "df = get_data()"
   ]
  },
  {
   "cell_type": "code",
   "execution_count": null,
   "id": "0fa601d3",
   "metadata": {},
   "outputs": [],
   "source": [
    "%%timeit\n",
    "df['reward'] = df['hate_food']\n",
    "df.loc[\n",
    "    ((df['pct_sleeping'] > 0.5) & (df['time_in_bed'] > 5) | (df['age'] > 90)), \n",
    "    'reward'\n",
    "    ] = df['favorite_food']"
   ]
  }
 ],
 "metadata": {
  "kernelspec": {
   "display_name": "venv311",
   "language": "python",
   "name": "python3"
  },
  "language_info": {
   "codemirror_mode": {
    "name": "ipython",
    "version": 3
   },
   "file_extension": ".py",
   "mimetype": "text/x-python",
   "name": "python",
   "nbconvert_exporter": "python",
   "pygments_lexer": "ipython3",
   "version": "3.11.13"
  }
 },
 "nbformat": 4,
 "nbformat_minor": 5
}
