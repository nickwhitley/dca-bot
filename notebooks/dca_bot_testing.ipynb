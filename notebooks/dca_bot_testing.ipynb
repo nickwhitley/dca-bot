{
 "cells": [
  {
   "cell_type": "code",
   "execution_count": 3,
   "id": "36c5c0da",
   "metadata": {},
   "outputs": [],
   "source": [
    "import sys\n",
    "import os\n",
    "import pandas as pd\n",
    "sys.path.append(\"../src\")\n",
    "import json\n",
    "from data import data\n",
    "from constants import Timeframe, Asset\n",
    "from datetime import datetime, timedelta\n",
    "from pydantic import BaseModel, ValidationError, PositiveInt\n",
    "from datetime import datetime\n",
    "from datetime import timedelta\n",
    "from backtesting.backtest_config import BacktestConfig\n",
    "from pydantic import BaseModel\n",
    "from api.coindesk_api import get_OHLC\n",
    "\n",
    "pd.set_option('display.max_columns', None)"
   ]
  },
  {
   "cell_type": "code",
   "execution_count": 5,
   "id": "f617725b",
   "metadata": {},
   "outputs": [
    {
     "name": "stderr",
     "output_type": "stream",
     "text": [
      "\u001b[32m2025-07-21 09:08:17.863\u001b[0m | \u001b[1mINFO    \u001b[0m | \u001b[36mapi.coindesk_api\u001b[0m:\u001b[36mget_OHLC\u001b[0m:\u001b[36m101\u001b[0m - \u001b[1mmaking OHLC request\u001b[0m\n",
      "\u001b[32m2025-07-21 09:08:17.864\u001b[0m | \u001b[1mINFO    \u001b[0m | \u001b[36mapi.coindesk_api\u001b[0m:\u001b[36mmake_request\u001b[0m:\u001b[36m29\u001b[0m - \u001b[1mcalling https://data-api.coindesk.com/index/cc/v1/historical/hours with params: {'groups': 'OHLC', 'to_ts': 1711281600.0, 'instrument': 'ADA-USD', 'limit': 2000, 'market': 'cadli', 'aggregate': '1', 'apply_mapping': 'true', 'response_format': 'JSON', 'fill': 'true'}\u001b[0m\n"
     ]
    },
    {
     "name": "stdout",
     "output_type": "stream",
     "text": [
      "Pulling data from 2024-01-01 00:00:00 to 2025-07-21 05:00:00\n",
      "Current chunk end 2024-03-24 08:00:00\n"
     ]
    },
    {
     "name": "stderr",
     "output_type": "stream",
     "text": [
      "\u001b[32m2025-07-21 09:08:26.326\u001b[0m | \u001b[1mINFO    \u001b[0m | \u001b[36mapi.coindesk_api\u001b[0m:\u001b[36mmake_request\u001b[0m:\u001b[36m54\u001b[0m - \u001b[1mcall to https://data-api.coindesk.com/index/cc/v1/historical/hours is returning response.\u001b[0m\n",
      "\u001b[32m2025-07-21 09:08:26.330\u001b[0m | \u001b[1mINFO    \u001b[0m | \u001b[36mapi.coindesk_api\u001b[0m:\u001b[36mget_OHLC\u001b[0m:\u001b[36m101\u001b[0m - \u001b[1mmaking OHLC request\u001b[0m\n",
      "\u001b[32m2025-07-21 09:08:26.331\u001b[0m | \u001b[1mINFO    \u001b[0m | \u001b[36mapi.coindesk_api\u001b[0m:\u001b[36mmake_request\u001b[0m:\u001b[36m29\u001b[0m - \u001b[1mcalling https://data-api.coindesk.com/index/cc/v1/historical/hours with params: {'groups': 'OHLC', 'to_ts': 1718481600.0, 'instrument': 'ADA-USD', 'limit': 2000, 'market': 'cadli', 'aggregate': '1', 'apply_mapping': 'true', 'response_format': 'JSON', 'fill': 'true'}\u001b[0m\n"
     ]
    },
    {
     "name": "stdout",
     "output_type": "stream",
     "text": [
      "Current chunk end 2024-06-15 16:00:00\n"
     ]
    },
    {
     "name": "stderr",
     "output_type": "stream",
     "text": [
      "\u001b[32m2025-07-21 09:08:30.180\u001b[0m | \u001b[1mINFO    \u001b[0m | \u001b[36mapi.coindesk_api\u001b[0m:\u001b[36mmake_request\u001b[0m:\u001b[36m54\u001b[0m - \u001b[1mcall to https://data-api.coindesk.com/index/cc/v1/historical/hours is returning response.\u001b[0m\n",
      "\u001b[32m2025-07-21 09:08:30.183\u001b[0m | \u001b[1mINFO    \u001b[0m | \u001b[36mapi.coindesk_api\u001b[0m:\u001b[36mget_OHLC\u001b[0m:\u001b[36m101\u001b[0m - \u001b[1mmaking OHLC request\u001b[0m\n",
      "\u001b[32m2025-07-21 09:08:30.184\u001b[0m | \u001b[1mINFO    \u001b[0m | \u001b[36mapi.coindesk_api\u001b[0m:\u001b[36mmake_request\u001b[0m:\u001b[36m29\u001b[0m - \u001b[1mcalling https://data-api.coindesk.com/index/cc/v1/historical/hours with params: {'groups': 'OHLC', 'to_ts': 1725681600.0, 'instrument': 'ADA-USD', 'limit': 2000, 'market': 'cadli', 'aggregate': '1', 'apply_mapping': 'true', 'response_format': 'JSON', 'fill': 'true'}\u001b[0m\n"
     ]
    },
    {
     "name": "stdout",
     "output_type": "stream",
     "text": [
      "Current chunk end 2024-09-07 00:00:00\n"
     ]
    },
    {
     "name": "stderr",
     "output_type": "stream",
     "text": [
      "\u001b[32m2025-07-21 09:08:35.431\u001b[0m | \u001b[1mINFO    \u001b[0m | \u001b[36mapi.coindesk_api\u001b[0m:\u001b[36mmake_request\u001b[0m:\u001b[36m54\u001b[0m - \u001b[1mcall to https://data-api.coindesk.com/index/cc/v1/historical/hours is returning response.\u001b[0m\n",
      "\u001b[32m2025-07-21 09:08:35.433\u001b[0m | \u001b[1mINFO    \u001b[0m | \u001b[36mapi.coindesk_api\u001b[0m:\u001b[36mget_OHLC\u001b[0m:\u001b[36m101\u001b[0m - \u001b[1mmaking OHLC request\u001b[0m\n",
      "\u001b[32m2025-07-21 09:08:35.434\u001b[0m | \u001b[1mINFO    \u001b[0m | \u001b[36mapi.coindesk_api\u001b[0m:\u001b[36mmake_request\u001b[0m:\u001b[36m29\u001b[0m - \u001b[1mcalling https://data-api.coindesk.com/index/cc/v1/historical/hours with params: {'groups': 'OHLC', 'to_ts': 1732885200.0, 'instrument': 'ADA-USD', 'limit': 2000, 'market': 'cadli', 'aggregate': '1', 'apply_mapping': 'true', 'response_format': 'JSON', 'fill': 'true'}\u001b[0m\n"
     ]
    },
    {
     "name": "stdout",
     "output_type": "stream",
     "text": [
      "Current chunk end 2024-11-29 08:00:00\n"
     ]
    },
    {
     "name": "stderr",
     "output_type": "stream",
     "text": [
      "\u001b[32m2025-07-21 09:08:41.545\u001b[0m | \u001b[1mINFO    \u001b[0m | \u001b[36mapi.coindesk_api\u001b[0m:\u001b[36mmake_request\u001b[0m:\u001b[36m54\u001b[0m - \u001b[1mcall to https://data-api.coindesk.com/index/cc/v1/historical/hours is returning response.\u001b[0m\n",
      "\u001b[32m2025-07-21 09:08:41.548\u001b[0m | \u001b[1mINFO    \u001b[0m | \u001b[36mapi.coindesk_api\u001b[0m:\u001b[36mget_OHLC\u001b[0m:\u001b[36m101\u001b[0m - \u001b[1mmaking OHLC request\u001b[0m\n",
      "\u001b[32m2025-07-21 09:08:41.549\u001b[0m | \u001b[1mINFO    \u001b[0m | \u001b[36mapi.coindesk_api\u001b[0m:\u001b[36mmake_request\u001b[0m:\u001b[36m29\u001b[0m - \u001b[1mcalling https://data-api.coindesk.com/index/cc/v1/historical/hours with params: {'groups': 'OHLC', 'to_ts': 1740085200.0, 'instrument': 'ADA-USD', 'limit': 2000, 'market': 'cadli', 'aggregate': '1', 'apply_mapping': 'true', 'response_format': 'JSON', 'fill': 'true'}\u001b[0m\n"
     ]
    },
    {
     "name": "stdout",
     "output_type": "stream",
     "text": [
      "Current chunk end 2025-02-20 16:00:00\n"
     ]
    },
    {
     "name": "stderr",
     "output_type": "stream",
     "text": [
      "\u001b[32m2025-07-21 09:08:45.991\u001b[0m | \u001b[1mINFO    \u001b[0m | \u001b[36mapi.coindesk_api\u001b[0m:\u001b[36mmake_request\u001b[0m:\u001b[36m54\u001b[0m - \u001b[1mcall to https://data-api.coindesk.com/index/cc/v1/historical/hours is returning response.\u001b[0m\n",
      "\u001b[32m2025-07-21 09:08:45.994\u001b[0m | \u001b[1mINFO    \u001b[0m | \u001b[36mapi.coindesk_api\u001b[0m:\u001b[36mget_OHLC\u001b[0m:\u001b[36m101\u001b[0m - \u001b[1mmaking OHLC request\u001b[0m\n",
      "\u001b[32m2025-07-21 09:08:45.995\u001b[0m | \u001b[1mINFO    \u001b[0m | \u001b[36mapi.coindesk_api\u001b[0m:\u001b[36mmake_request\u001b[0m:\u001b[36m29\u001b[0m - \u001b[1mcalling https://data-api.coindesk.com/index/cc/v1/historical/hours with params: {'groups': 'OHLC', 'to_ts': 1747281600.0, 'instrument': 'ADA-USD', 'limit': 2000, 'market': 'cadli', 'aggregate': '1', 'apply_mapping': 'true', 'response_format': 'JSON', 'fill': 'true'}\u001b[0m\n"
     ]
    },
    {
     "name": "stdout",
     "output_type": "stream",
     "text": [
      "Current chunk end 2025-05-15 00:00:00\n"
     ]
    },
    {
     "name": "stderr",
     "output_type": "stream",
     "text": [
      "\u001b[32m2025-07-21 09:08:50.306\u001b[0m | \u001b[1mINFO    \u001b[0m | \u001b[36mapi.coindesk_api\u001b[0m:\u001b[36mmake_request\u001b[0m:\u001b[36m54\u001b[0m - \u001b[1mcall to https://data-api.coindesk.com/index/cc/v1/historical/hours is returning response.\u001b[0m\n",
      "\u001b[32m2025-07-21 09:08:50.309\u001b[0m | \u001b[1mINFO    \u001b[0m | \u001b[36mapi.coindesk_api\u001b[0m:\u001b[36mget_OHLC\u001b[0m:\u001b[36m101\u001b[0m - \u001b[1mmaking OHLC request\u001b[0m\n",
      "\u001b[32m2025-07-21 09:08:50.310\u001b[0m | \u001b[1mINFO    \u001b[0m | \u001b[36mapi.coindesk_api\u001b[0m:\u001b[36mmake_request\u001b[0m:\u001b[36m29\u001b[0m - \u001b[1mcalling https://data-api.coindesk.com/index/cc/v1/historical/hours with params: {'groups': 'OHLC', 'to_ts': 1753088400.0, 'instrument': 'ADA-USD', 'limit': 1613, 'market': 'cadli', 'aggregate': '1', 'apply_mapping': 'true', 'response_format': 'JSON', 'fill': 'true'}\u001b[0m\n"
     ]
    },
    {
     "name": "stdout",
     "output_type": "stream",
     "text": [
      "Current chunk end 2025-07-21 05:00:00\n"
     ]
    },
    {
     "name": "stderr",
     "output_type": "stream",
     "text": [
      "\u001b[32m2025-07-21 09:08:51.007\u001b[0m | \u001b[1mINFO    \u001b[0m | \u001b[36mapi.coindesk_api\u001b[0m:\u001b[36mmake_request\u001b[0m:\u001b[36m54\u001b[0m - \u001b[1mcall to https://data-api.coindesk.com/index/cc/v1/historical/hours is returning response.\u001b[0m\n"
     ]
    },
    {
     "name": "stdout",
     "output_type": "stream",
     "text": [
      "making dir\n"
     ]
    },
    {
     "ename": "FileNotFoundError",
     "evalue": "[Errno 2] No such file or directory: 'PARQUET./src/data/pkl/'",
     "output_type": "error",
     "traceback": [
      "\u001b[31m---------------------------------------------------------------------------\u001b[39m",
      "\u001b[31mFileNotFoundError\u001b[39m                         Traceback (most recent call last)",
      "\u001b[36mCell\u001b[39m\u001b[36m \u001b[39m\u001b[32mIn[5]\u001b[39m\u001b[32m, line 1\u001b[39m\n\u001b[32m----> \u001b[39m\u001b[32m1\u001b[39m df = \u001b[43mget_OHLC\u001b[49m\u001b[43m(\u001b[49m\n\u001b[32m      2\u001b[39m \u001b[43m    \u001b[49m\u001b[43mdatetime\u001b[49m\u001b[43m(\u001b[49m\u001b[32;43m2024\u001b[39;49m\u001b[43m,\u001b[49m\u001b[32;43m1\u001b[39;49m\u001b[43m,\u001b[49m\u001b[32;43m1\u001b[39;49m\u001b[43m)\u001b[49m\n\u001b[32m      3\u001b[39m \u001b[43m)\u001b[49m\n",
      "\u001b[36mFile \u001b[39m\u001b[32m~/dca-bot/notebooks/../src/api/coindesk_api.py:125\u001b[39m, in \u001b[36mget_OHLC\u001b[39m\u001b[34m(from_date, to_date, pair, timeframe)\u001b[39m\n\u001b[32m    115\u001b[39m df = pd.DataFrame(result)\n\u001b[32m    116\u001b[39m df = df.rename(columns={\n\u001b[32m    117\u001b[39m     \u001b[33m'\u001b[39m\u001b[33mUNIT\u001b[39m\u001b[33m'\u001b[39m: \u001b[33m'\u001b[39m\u001b[33mtimeframe\u001b[39m\u001b[33m'\u001b[39m, \n\u001b[32m    118\u001b[39m     \u001b[33m'\u001b[39m\u001b[33mTIMESTAMP\u001b[39m\u001b[33m'\u001b[39m: \u001b[33m'\u001b[39m\u001b[33mtimestamp\u001b[39m\u001b[33m'\u001b[39m, \n\u001b[32m   (...)\u001b[39m\u001b[32m    122\u001b[39m     \u001b[33m'\u001b[39m\u001b[33mCLOSE\u001b[39m\u001b[33m'\u001b[39m: \u001b[33m'\u001b[39m\u001b[33mclose\u001b[39m\u001b[33m'\u001b[39m\n\u001b[32m    123\u001b[39m     }, errors=\u001b[33m'\u001b[39m\u001b[33mraise\u001b[39m\u001b[33m'\u001b[39m).drop([\u001b[33m'\u001b[39m\u001b[33mtimeframe\u001b[39m\u001b[33m'\u001b[39m], axis=\u001b[32m1\u001b[39m)\n\u001b[32m--> \u001b[39m\u001b[32m125\u001b[39m df[\u001b[33m'\u001b[39m\u001b[33mtimestamp\u001b[39m\u001b[33m'\u001b[39m] = df[\u001b[33m'\u001b[39m\u001b[33mtimestamp\u001b[39m\u001b[33m'\u001b[39m].apply(\u001b[38;5;28;01mlambda\u001b[39;00m x: strftime(\u001b[33m'\u001b[39m\u001b[33m%\u001b[39m\u001b[33mm-\u001b[39m\u001b[38;5;132;01m%d\u001b[39;00m\u001b[33m-\u001b[39m\u001b[33m%\u001b[39m\u001b[33mY \u001b[39m\u001b[33m%\u001b[39m\u001b[33mH:\u001b[39m\u001b[33m%\u001b[39m\u001b[33mM\u001b[39m\u001b[33m'\u001b[39m, localtime(x)))\n\u001b[32m    127\u001b[39m df_name = \u001b[33mf\u001b[39m\u001b[33m\"\u001b[39m\u001b[38;5;132;01m{\u001b[39;00m\u001b[38;5;250m \u001b[39mpair.value.replace(\u001b[33m'\u001b[39m\u001b[33m/\u001b[39m\u001b[33m'\u001b[39m,\u001b[38;5;250m \u001b[39m\u001b[33m'\u001b[39m\u001b[33m_\u001b[39m\u001b[33m'\u001b[39m)\u001b[38;5;250m \u001b[39m\u001b[38;5;132;01m}\u001b[39;00m\u001b[33m-\u001b[39m\u001b[38;5;132;01m{\u001b[39;00m\u001b[38;5;250m \u001b[39mtimeframe.name\u001b[38;5;250m \u001b[39m\u001b[38;5;132;01m}\u001b[39;00m\u001b[33m-\u001b[39m\u001b[38;5;132;01m{\u001b[39;00m\u001b[38;5;250m \u001b[39mfrom_date.strftime(\u001b[33m'\u001b[39m\u001b[33m%\u001b[39m\u001b[33mm-\u001b[39m\u001b[38;5;132;01m%d\u001b[39;00m\u001b[33m-\u001b[39m\u001b[33m%\u001b[39m\u001b[33mY\u001b[39m\u001b[33m'\u001b[39m)\u001b[38;5;250m \u001b[39m\u001b[38;5;132;01m}\u001b[39;00m\u001b[33m\"\u001b[39m\n\u001b[32m    128\u001b[39m data.save_df(df, df_name, \u001b[33m'\u001b[39m\u001b[33mPARQUET\u001b[39m\u001b[33m'\u001b[39m)\n",
      "\u001b[36mFile \u001b[39m\u001b[32m~/dca-bot/notebooks/../src/data/data.py:41\u001b[39m, in \u001b[36msave_df\u001b[39m\u001b[34m(df, file_name, path_append, file_type)\u001b[39m\n\u001b[32m     39\u001b[39m \u001b[38;5;28;01mif\u001b[39;00m \u001b[38;5;129;01mnot\u001b[39;00m os.path.exists(dest_dir):\n\u001b[32m     40\u001b[39m     \u001b[38;5;28mprint\u001b[39m(\u001b[33m\"\u001b[39m\u001b[33mmaking dir\u001b[39m\u001b[33m\"\u001b[39m)\n\u001b[32m---> \u001b[39m\u001b[32m41\u001b[39m     \u001b[43mos\u001b[49m\u001b[43m.\u001b[49m\u001b[43mmkdir\u001b[49m\u001b[43m(\u001b[49m\u001b[43mdest_dir\u001b[49m\u001b[43m)\u001b[49m\n\u001b[32m     43\u001b[39m \u001b[38;5;28;01mmatch\u001b[39;00m file_type:\n\u001b[32m     44\u001b[39m     \u001b[38;5;28;01mcase\u001b[39;00m \u001b[33m'\u001b[39m\u001b[33mPKL\u001b[39m\u001b[33m'\u001b[39m:\n",
      "\u001b[31mFileNotFoundError\u001b[39m: [Errno 2] No such file or directory: 'PARQUET./src/data/pkl/'"
     ]
    }
   ],
   "source": [
    "df = get_OHLC(\n",
    "    datetime(2024,1,1)\n",
    ")"
   ]
  },
  {
   "cell_type": "code",
   "execution_count": null,
   "id": "16022fde",
   "metadata": {},
   "outputs": [],
   "source": [
    "df"
   ]
  },
  {
   "cell_type": "code",
   "execution_count": null,
   "id": "4f976e37",
   "metadata": {},
   "outputs": [],
   "source": [
    "from_date = datetime(2024, 1, 1)\n",
    "to_date = datetime.now().replace(microsecond=0, second=0, minute=0)\n",
    "tick_limit=2000\n",
    "\n",
    "def fetch_data(from_dt: datetime, to_dt: datetime):\n",
    "    # This is your second function that gets called for each chunk\n",
    "    # Replace this with actual logic (e.g., API calls, DB queries, etc.)\n",
    "    print(f\"Fetching from {from_dt} to {to_dt}\")\n",
    "    return [(from_dt, to_dt)]  # Dummy return for example\n",
    "\n",
    "def chunked_fetch(start: datetime, end: datetime):\n",
    "    chunk_size = timedelta(hours=2000)\n",
    "    results = []\n",
    "\n",
    "    current = start\n",
    "    while current < end:\n",
    "        chunk_end = min(current + chunk_size, end)\n",
    "        chunk_result = fetch_data(current, chunk_end)\n",
    "        results.extend(chunk_result)\n",
    "        current = chunk_end\n",
    "\n",
    "    return results\n",
    "\n",
    "result = chunked_fetch(start=from_date, end=to_date)\n",
    "\n",
    "print(result)"
   ]
  },
  {
   "cell_type": "code",
   "execution_count": null,
   "id": "1b979ceb",
   "metadata": {},
   "outputs": [],
   "source": [
    "df = data.get_df(Asset.ADA_USD, Timeframe.H1, \".\", 'PARQUET')\n",
    "df.head(10)"
   ]
  },
  {
   "cell_type": "code",
   "execution_count": null,
   "id": "e6a2875e",
   "metadata": {},
   "outputs": [],
   "source": [
    "class Trade(BaseModel):\n",
    "    # price of quote crypto\n",
    "    open_price: float = 0.0\n",
    "    # total value of quote crypto in base\n",
    "    open_value: float = 0.0\n",
    "    # trade size of base crypto/currency(USD)\n",
    "    total_quantity: float = 0.0\n",
    "    # price of quote crypto\n",
    "    current_price: float = 0.0\n",
    "    # profit/loss in base crypto/currency(USD)\n",
    "    profit_loss: float = 0.0\n",
    "    # profit/loss percentage\n",
    "    profit_loss_pct: float = 0.0\n",
    "    # value of quote crypto in base\n",
    "    current_value: float = 0.0\n",
    "    average_entry_price = 0.0\n",
    "    averaging_orders_prices: list = []\n",
    "    averaging_order_sizes: list = []\n",
    "    # list of the averaging order quantities (order_size / price), how many of the quote did you get\n",
    "    averaging_orders_qty: list = []\n",
    "    averaging_orders_filled: int = 0\n",
    "    last_order_price: float = 0.0\n",
    "\n",
    "#bot config\n",
    "base_order_size = 20\n",
    "averaging_order_size = 40\n",
    "max_averaging_orders = 6\n",
    "take_profit = 1.5\n",
    "price_deviation = 1.5\n",
    "averaging_order_size_mul = 1.28\n",
    "averaging_order_step_mul = 1.85\n",
    "\n",
    "def calc_avgeraging_order_prices(initial_price:float, deviation:float, multiplier:float):\n",
    "        prices = []\n",
    "        cumulative_multiplier = 0.0\n",
    "\n",
    "        for i in range(6):\n",
    "            cumulative_multiplier += multiplier ** i\n",
    "            percent_drop = deviation * cumulative_multiplier\n",
    "            price = initial_price * (1 - percent_drop / 100)\n",
    "            prices.append(round(price, 7))\n",
    "\n",
    "        return prices\n",
    "\n",
    "def calc_averaging_order_size(avg_order_size: float, multiplier: float):\n",
    "     sizes = [\n",
    "          round(avg_order_size * (multiplier ** i), 2)\n",
    "          for i in range(6)\n",
    "     ]\n",
    "     return sizes\n",
    "\n",
    "def calc_profit_losses(current_price: float, total_cost: float, total_qty: float):\n",
    "    current_value = current_price * total_qty\n",
    "    profit_loss = current_value - total_cost\n",
    "    profit_loss_pct = (profit_loss / total_cost) * 100\n",
    "\n",
    "    return round(profit_loss, 6), round(profit_loss_pct, 6)\n",
    "\n",
    "def open_trade(index, row, df, trade):\n",
    "    trade.total_quantity = base_order_size / float(row.open)\n",
    "    trade.open_value = float(trade.total_quantity * float(row.open))\n",
    "    trade.last_order_price = float(row.open)\n",
    "    trade.averaging_orders_prices = calc_avgeraging_order_prices(\n",
    "        initial_price=float(row.open),\n",
    "        deviation=price_deviation,\n",
    "        multiplier=averaging_order_step_mul\n",
    "        )\n",
    "    trade.averaging_order_sizes = calc_averaging_order_size(\n",
    "         avg_order_size=averaging_order_size,\n",
    "         multiplier=averaging_order_size_mul\n",
    "    )\n",
    "    \n",
    "    df.loc[index, 'trade_action'] = 'opened_trade'\n",
    "    df.loc[index, 'trade_value'] = trade.open_value\n",
    "    df.loc[index + 1, 'trade_action'] = 'in_trade'\n",
    "    df.loc[index, 'avgeraging_orders'] = ','.join([str(item) + ',' for item in trade.averaging_orders_prices])\n",
    "    df.loc[index, 'averaging_orders_sizes'] = ','.join([str(item) + ',' for item in trade.averaging_order_sizes])\n",
    "     \n",
    "\n",
    "def run_backtest(df):\n",
    "    df_copy = df.copy()\n",
    "    df_copy['trade_action'] = 'no_trade'\n",
    "    df_copy['trade_value'] = 'None'\n",
    "    df_copy['trade_profit_loss'] = 0.0\n",
    "    df_copy['trade_profit_loss_pct'] = 0.0\n",
    "\n",
    "    trades: list[Trade] = []\n",
    "\n",
    "    current_trade = Trade()\n",
    "\n",
    "    total_profit = 0.0\n",
    "    hit_take_profit = False\n",
    "\n",
    "    #account info\n",
    "    starting_account_balance = 500.0\n",
    "    current_account_balance = 500.0\n",
    "\n",
    "    for index, row in enumerate(df_copy.itertuples(), 0):\n",
    "        if current_trade.profit_loss_pct > take_profit:\n",
    "            total_profit += current_trade.profit_loss\n",
    "            df_copy.loc[index, 'trade_action'] = 'closed_trade'\n",
    "            df_copy.loc[index + 1, 'trade_action'] = 'no_trade'\n",
    "            trades.append(current_trade)\n",
    "            current_trade = Trade()\n",
    "        elif row.trade_action == 'in_trade':\n",
    "            # maintain trade\n",
    "            avg_orders_filled = current_trade.averaging_orders_filled\n",
    "            if float(row.low) < current_trade.averaging_orders_prices[avg_orders_filled] and avg_orders_filled < 5:\n",
    "                 current_trade.last_order_price = current_trade.averaging_orders_prices[avg_orders_filled]\n",
    "                 current_trade.total_quantity += (current_trade.averaging_order_sizes[avg_orders_filled] / float(row.low))\n",
    "                 current_trade.open_value += current_trade.averaging_order_sizes[avg_orders_filled]\n",
    "\n",
    "                 df_copy.loc[index, 'trade_action'] = f\"avg. order {avg_orders_filled + 1} filled\"\n",
    "                 if (avg_orders_filled < 5): current_trade.averaging_orders_filled += 1\n",
    "            current_trade.current_value = float(current_trade.total_quantity * float(row.open))\n",
    "            \n",
    "            # current_price_deviation = ((float(row.open) - current_trade.last_order_price) / current_trade.last_order_price) * 100\n",
    "\n",
    "            profit_loss, profit_loss_pct = calc_profit_losses(\n",
    "                 current_price=float(row.high), \n",
    "                 total_cost=current_trade.open_value, \n",
    "                 total_qty=current_trade.total_quantity\n",
    "                 )\n",
    "            current_trade.profit_loss = profit_loss\n",
    "            current_trade.profit_loss_pct = profit_loss_pct\n",
    "\n",
    "            df_copy.loc[index, 'trade_value'] = current_trade.current_value\n",
    "            df_copy.loc[index, 'trade_profit_loss'] = current_trade.profit_loss\n",
    "            df_copy.loc[index, 'trade_profit_loss_pct'] = current_trade.profit_loss_pct\n",
    "            # df_copy.loc[index, 'current_trade'] = current_trade\n",
    "            df_copy.loc[index + 1, 'trade_action'] = 'in_trade'\n",
    "\n",
    "        elif row.trade_action == 'no_trade':\n",
    "            # open trade\n",
    "            open_trade(index, row, df_copy, current_trade)\n",
    "\n",
    "    return df_copy, trades, total_profit"
   ]
  },
  {
   "cell_type": "code",
   "execution_count": null,
   "id": "5b20f8d7",
   "metadata": {},
   "outputs": [],
   "source": [
    "df_tested, trades, profit = run_backtest(df)\n"
   ]
  },
  {
   "cell_type": "code",
   "execution_count": null,
   "id": "09e9e360",
   "metadata": {},
   "outputs": [],
   "source": [
    "data.save_df(df_tested, \"ADA_tested\", \".\", \"CSV\")\n",
    "print(len(trades))\n",
    "print(sum(trade.profit_loss for trade in trades))\n",
    "print(trades)\n",
    "print(profit)\n",
    "df_tested.head(60)"
   ]
  },
  {
   "cell_type": "code",
   "execution_count": null,
   "id": "c7b7c0e6",
   "metadata": {},
   "outputs": [],
   "source": [
    "%%timeit\n",
    "run_backtest(df)"
   ]
  },
  {
   "cell_type": "markdown",
   "id": "0d84d96b",
   "metadata": {},
   "source": [
    "# Testing Ways to Loop or Vectorize DF:"
   ]
  },
  {
   "cell_type": "code",
   "execution_count": null,
   "id": "0f034003",
   "metadata": {},
   "outputs": [],
   "source": [
    "import pandas as pd\n",
    "import numpy as np"
   ]
  },
  {
   "cell_type": "code",
   "execution_count": null,
   "id": "06c9fefb",
   "metadata": {},
   "outputs": [],
   "source": [
    "def get_data(size = 10_000):\n",
    "    df = pd.DataFrame()\n",
    "    df['age'] = np.random.randint(0, 100, size)\n",
    "    df['time_in_bed'] = np.random.randint(0, 9, size)\n",
    "    df['pct_sleeping'] = np.random.rand(size)\n",
    "    df['favorite_food'] = np.random.choice(['pizza', 'taco', 'ice-cream'], size)\n",
    "    df['hate_food'] = np.random.choice(['broccoli', 'candy corn', 'eggs'], size)\n",
    "    return df"
   ]
  },
  {
   "cell_type": "markdown",
   "id": "a85b58da",
   "metadata": {},
   "source": [
    "## The problem\n",
    "Reqard calc:\n",
    "- If they were in bed for more than 5 hours AND they were sleeping for more than 50% we give them their favorite food.\n",
    "- Otherwise we give them their hate food.\n",
    "- If they are over 90 years old give their favorite foor regardless"
   ]
  },
  {
   "cell_type": "code",
   "execution_count": null,
   "id": "74bb5856",
   "metadata": {},
   "outputs": [],
   "source": [
    "def reward_calc(row):\n",
    "    if row['age'] >= 90:\n",
    "        return row['favorite_food']\n",
    "    if (row['time_in_bed'] > 5) & (row['pct_sleeping'] > 0.5):\n",
    "        return row['favorite_food']\n",
    "    return row['hate_food']"
   ]
  },
  {
   "cell_type": "markdown",
   "id": "6cf96ad8",
   "metadata": {},
   "source": [
    "### Level 1 - Loop (Slowest)"
   ]
  },
  {
   "cell_type": "code",
   "execution_count": null,
   "id": "4dfc7c2d",
   "metadata": {},
   "outputs": [],
   "source": [
    "df = get_data()"
   ]
  },
  {
   "cell_type": "code",
   "execution_count": null,
   "id": "7a44eeea",
   "metadata": {},
   "outputs": [],
   "source": [
    "%%timeit\n",
    "for index, row in df.iterrows():\n",
    "    df.loc[index, 'reward'] = reward_calc(row)"
   ]
  },
  {
   "cell_type": "markdown",
   "id": "abc47cf0",
   "metadata": {},
   "source": [
    "### Level 2 - Apply"
   ]
  },
  {
   "cell_type": "code",
   "execution_count": null,
   "id": "9bd1ae8c",
   "metadata": {},
   "outputs": [],
   "source": [
    "df = get_data()"
   ]
  },
  {
   "cell_type": "code",
   "execution_count": null,
   "id": "2609e544",
   "metadata": {},
   "outputs": [],
   "source": [
    "%%timeit\n",
    "df['reward'] = df.apply(reward_calc, axis=1)"
   ]
  },
  {
   "cell_type": "markdown",
   "id": "877a2fcd",
   "metadata": {},
   "source": [
    "### Level 3 - Vectorized (Fastest)"
   ]
  },
  {
   "cell_type": "code",
   "execution_count": null,
   "id": "e66cb08e",
   "metadata": {},
   "outputs": [],
   "source": [
    "df = get_data()"
   ]
  },
  {
   "cell_type": "code",
   "execution_count": null,
   "id": "0fa601d3",
   "metadata": {},
   "outputs": [],
   "source": [
    "%%timeit\n",
    "df['reward'] = df['hate_food']\n",
    "df.loc[\n",
    "    ((df['pct_sleeping'] > 0.5) & (df['time_in_bed'] > 5) | (df['age'] > 90)), \n",
    "    'reward'\n",
    "    ] = df['favorite_food']"
   ]
  }
 ],
 "metadata": {
  "kernelspec": {
   "display_name": "venv",
   "language": "python",
   "name": "python3"
  },
  "language_info": {
   "codemirror_mode": {
    "name": "ipython",
    "version": 3
   },
   "file_extension": ".py",
   "mimetype": "text/x-python",
   "name": "python",
   "nbconvert_exporter": "python",
   "pygments_lexer": "ipython3",
   "version": "3.12.3"
  }
 },
 "nbformat": 4,
 "nbformat_minor": 5
}
