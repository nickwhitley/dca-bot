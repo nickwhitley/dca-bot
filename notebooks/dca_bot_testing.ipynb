{
 "cells": [
  {
   "cell_type": "code",
   "execution_count": 1,
   "id": "36c5c0da",
   "metadata": {},
   "outputs": [],
   "source": [
    "import sys\n",
    "import os\n",
    "import pandas as pd\n",
    "sys.path.append(\"../\")\n",
    "from src.data import data"
   ]
  },
  {
   "cell_type": "code",
   "execution_count": 4,
   "id": "5b20f8d7",
   "metadata": {},
   "outputs": [
    {
     "name": "stdout",
     "output_type": "stream",
     "text": [
      "<bound method NDFrame.copy of             timestamp      open      high       low     close      vwap  \\\n",
      "0    06-15-2025 01:00  0.631473  0.634377  0.630000  0.633617  0.630877   \n",
      "1    06-15-2025 02:00  0.634691  0.634924  0.629850  0.630389  0.631012   \n",
      "2    06-15-2025 03:00  0.630363  0.630602  0.627588  0.628634  0.628654   \n",
      "3    06-15-2025 04:00  0.628446  0.628446  0.625878  0.626764  0.626784   \n",
      "4    06-15-2025 05:00  0.626300  0.626885  0.621469  0.621988  0.623821   \n",
      "..                ...       ...       ...       ...       ...       ...   \n",
      "409  07-02-2025 02:00  0.554830  0.557660  0.554198  0.557658  0.555773   \n",
      "410  07-02-2025 03:00  0.557792  0.558462  0.555097  0.556887  0.556529   \n",
      "411  07-02-2025 04:00  0.557493  0.560433  0.557493  0.558529  0.559222   \n",
      "412  07-02-2025 05:00  0.559181  0.559285  0.557253  0.557615  0.558565   \n",
      "413  07-02-2025 06:00  0.557639  0.557778  0.557629  0.557665  0.557739   \n",
      "\n",
      "              volume  count  \n",
      "0     47993.67340465    182  \n",
      "1    107529.73758482    109  \n",
      "2     32777.16180841     55  \n",
      "3     12200.69788582     55  \n",
      "4     77646.24198837    140  \n",
      "..               ...    ...  \n",
      "409   97573.58208973    141  \n",
      "410   81544.46265934    138  \n",
      "411  131540.22787541    139  \n",
      "412   77230.12378671     94  \n",
      "413     157.69701937     11  \n",
      "\n",
      "[414 rows x 8 columns]>\n"
     ]
    }
   ],
   "source": [
    "df = data.get_df_from_pkl(\"ADAUSD\", \"1H\", \".\")\n",
    "print(df)"
   ]
  },
  {
   "cell_type": "code",
   "execution_count": 11,
   "id": "c7b7c0e6",
   "metadata": {},
   "outputs": [],
   "source": [
    "df = get_df_from_pkl(\"ADAUSD\", 60)"
   ]
  }
 ],
 "metadata": {
  "kernelspec": {
   "display_name": "venv",
   "language": "python",
   "name": "python3"
  },
  "language_info": {
   "codemirror_mode": {
    "name": "ipython",
    "version": 3
   },
   "file_extension": ".py",
   "mimetype": "text/x-python",
   "name": "python",
   "nbconvert_exporter": "python",
   "pygments_lexer": "ipython3",
   "version": "3.12.3"
  }
 },
 "nbformat": 4,
 "nbformat_minor": 5
}
